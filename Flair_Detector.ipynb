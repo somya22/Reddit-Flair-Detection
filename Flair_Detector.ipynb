{
  "nbformat": 4,
  "nbformat_minor": 0,
  "metadata": {
    "colab": {
      "name": "Flair Detector.ipynb",
      "provenance": []
    },
    "kernelspec": {
      "name": "python3",
      "display_name": "Python 3"
    }
  },
  "cells": [
    {
      "cell_type": "markdown",
      "metadata": {
        "id": "cagVBRpZrYDn",
        "colab_type": "text"
      },
      "source": [
        "**Importing libraries**"
      ]
    },
    {
      "cell_type": "code",
      "metadata": {
        "id": "2l4V71BjqWTu",
        "colab_type": "code",
        "colab": {}
      },
      "source": [
        "import pandas as pd\n",
        "import numpy as np\n",
        "from sklearn.model_selection import train_test_split\n",
        "from sklearn.pipeline import Pipeline\n",
        "from sklearn.feature_extraction.text import TfidfTransformer\n",
        "from sklearn.feature_extraction.text import CountVectorizer\n",
        "from sklearn.naive_bayes import MultinomialNB\n",
        "from sklearn.linear_model import LogisticRegression\n",
        "from sklearn.ensemble import RandomForestClassifier\n",
        "from xgboost import XGBClassifier\n",
        "from sklearn.metrics import classification_report\n",
        "from sklearn.metrics import accuracy_score, confusion_matrix\n",
        "import pickle"
      ],
      "execution_count": 1,
      "outputs": []
    },
    {
      "cell_type": "markdown",
      "metadata": {
        "id": "wTkBO0B7riic",
        "colab_type": "text"
      },
      "source": [
        "**Fetching the Data**"
      ]
    },
    {
      "cell_type": "code",
      "metadata": {
        "id": "LV-4YOxVq_XM",
        "colab_type": "code",
        "colab": {}
      },
      "source": [
        "df=pd.read_csv('/content/drive/My Drive/dataset.csv')"
      ],
      "execution_count": 2,
      "outputs": []
    },
    {
      "cell_type": "code",
      "metadata": {
        "id": "VV3A8AImrmHM",
        "colab_type": "code",
        "colab": {
          "base_uri": "https://localhost:8080/",
          "height": 1000
        },
        "outputId": "fe41da85-eac6-4887-859b-ff850c064a76"
      },
      "source": [
        "df.head(10)"
      ],
      "execution_count": 3,
      "outputs": [
        {
          "output_type": "execute_result",
          "data": {
            "text/html": [
              "<div>\n",
              "<style scoped>\n",
              "    .dataframe tbody tr th:only-of-type {\n",
              "        vertical-align: middle;\n",
              "    }\n",
              "\n",
              "    .dataframe tbody tr th {\n",
              "        vertical-align: top;\n",
              "    }\n",
              "\n",
              "    .dataframe thead th {\n",
              "        text-align: right;\n",
              "    }\n",
              "</style>\n",
              "<table border=\"1\" class=\"dataframe\">\n",
              "  <thead>\n",
              "    <tr style=\"text-align: right;\">\n",
              "      <th></th>\n",
              "      <th>title</th>\n",
              "      <th>score</th>\n",
              "      <th>id</th>\n",
              "      <th>url</th>\n",
              "      <th>comms_num</th>\n",
              "      <th>body</th>\n",
              "      <th>flair</th>\n",
              "      <th>timestamp</th>\n",
              "      <th>cleanbody</th>\n",
              "      <th>cleantitle</th>\n",
              "    </tr>\n",
              "  </thead>\n",
              "  <tbody>\n",
              "    <tr>\n",
              "      <th>0</th>\n",
              "      <td>Covid 19 - Parliamentary Standing Committee on...</td>\n",
              "      <td>4</td>\n",
              "      <td>fyad3a</td>\n",
              "      <td>https://www.reddit.com/r/india/comments/fyad3a...</td>\n",
              "      <td>0</td>\n",
              "      <td>The Parliamentary Standing Committee on Scienc...</td>\n",
              "      <td>Science &amp; Technology</td>\n",
              "      <td>2020-04-10 14:48:16</td>\n",
              "      <td>parlia stand commit sci technolog environ fore...</td>\n",
              "      <td>covid parlia stand commit sci technolog invit ...</td>\n",
              "    </tr>\n",
              "    <tr>\n",
              "      <th>1</th>\n",
              "      <td>[NP]FIITJEE - An institute that is supposed to...</td>\n",
              "      <td>251</td>\n",
              "      <td>7h8luq</td>\n",
              "      <td>https://i.redd.it/cex76h7a2o101.jpg</td>\n",
              "      <td>61</td>\n",
              "      <td>NaN</td>\n",
              "      <td>Science &amp; Technology</td>\n",
              "      <td>2017-12-03 16:19:29</td>\n",
              "      <td>NaN</td>\n",
              "      <td>fiits institut suppos teach sci technolog u hi...</td>\n",
              "    </tr>\n",
              "    <tr>\n",
              "      <th>2</th>\n",
              "      <td>What are the websites that cover science &amp; tec...</td>\n",
              "      <td>20</td>\n",
              "      <td>5vouxk</td>\n",
              "      <td>https://www.reddit.com/r/india/comments/5vouxk...</td>\n",
              "      <td>16</td>\n",
              "      <td>Like verge.com, wired.com etc.</td>\n",
              "      <td>Science &amp; Technology</td>\n",
              "      <td>2017-02-23 14:27:51</td>\n",
              "      <td>lik verg com wir com etc</td>\n",
              "      <td>websit cov sci technolog new focus ind</td>\n",
              "    </tr>\n",
              "    <tr>\n",
              "      <th>3</th>\n",
              "      <td>[Science &amp; Technology] The secret to longevity...</td>\n",
              "      <td>2</td>\n",
              "      <td>8o1enm</td>\n",
              "      <td>https://www.mcgill.ca/newsroom/channels/news/s...</td>\n",
              "      <td>2</td>\n",
              "      <td>NaN</td>\n",
              "      <td>Science &amp; Technology</td>\n",
              "      <td>2018-06-02 23:43:55</td>\n",
              "      <td>NaN</td>\n",
              "      <td>sci technolog secret longev microbiom gut</td>\n",
              "    </tr>\n",
              "    <tr>\n",
              "      <th>4</th>\n",
              "      <td>[Science &amp; Technology] 20 important discoverie...</td>\n",
              "      <td>30</td>\n",
              "      <td>7hhkem</td>\n",
              "      <td>https://a.msn.com/r/2/BBG3HPi?m=en-in</td>\n",
              "      <td>0</td>\n",
              "      <td>NaN</td>\n",
              "      <td>Science &amp; Technology</td>\n",
              "      <td>2017-12-04 22:16:18</td>\n",
              "      <td>NaN</td>\n",
              "      <td>sci technolog import discovery</td>\n",
              "    </tr>\n",
              "    <tr>\n",
              "      <th>5</th>\n",
              "      <td>barkha dutt on Twitter: \"So JP Nadda is the ne...</td>\n",
              "      <td>17</td>\n",
              "      <td>2ls183</td>\n",
              "      <td>https://twitter.com/BDUTT/status/5315062636588...</td>\n",
              "      <td>18</td>\n",
              "      <td>NaN</td>\n",
              "      <td>Science &amp; Technology</td>\n",
              "      <td>2014-11-10 02:00:13</td>\n",
              "      <td>NaN</td>\n",
              "      <td>barkh dut twit nadd new heal min drharshvardha...</td>\n",
              "    </tr>\n",
              "    <tr>\n",
              "      <th>6</th>\n",
              "      <td>Centre grants Rs 11 cr to Indian Institute of ...</td>\n",
              "      <td>4</td>\n",
              "      <td>6bvpzj</td>\n",
              "      <td>https://twitter.com/EconomicTimes/status/86507...</td>\n",
              "      <td>2</td>\n",
              "      <td>NaN</td>\n",
              "      <td>Science &amp; Technology</td>\n",
              "      <td>2017-05-18 20:01:38</td>\n",
              "      <td>NaN</td>\n",
              "      <td>cent grant ind institut engin sci technolog ii...</td>\n",
              "    </tr>\n",
              "    <tr>\n",
              "      <th>7</th>\n",
              "      <td>A place to discuss scientific and engineering ...</td>\n",
              "      <td>5</td>\n",
              "      <td>5jscfe</td>\n",
              "      <td>https://www.reddit.com/r/india/comments/5jscfe...</td>\n",
              "      <td>3</td>\n",
              "      <td>I've been thinking about this for a while. It ...</td>\n",
              "      <td>Science &amp; Technology</td>\n",
              "      <td>2016-12-23 03:04:49</td>\n",
              "      <td>think would illumin regul discus adv sci engin...</td>\n",
              "      <td>plac discus sci engin research ind sci technolog</td>\n",
              "    </tr>\n",
              "    <tr>\n",
              "      <th>8</th>\n",
              "      <td>India to Capture 10% of Global Medical Technol...</td>\n",
              "      <td>40</td>\n",
              "      <td>41o8fp</td>\n",
              "      <td>http://www.prnewswire.co.in/news-releases/indi...</td>\n",
              "      <td>3</td>\n",
              "      <td>NaN</td>\n",
              "      <td>Science &amp; Technology</td>\n",
              "      <td>2016-01-19 19:36:41</td>\n",
              "      <td>NaN</td>\n",
              "      <td>ind capt glob med technolog market harsh vardh...</td>\n",
              "    </tr>\n",
              "    <tr>\n",
              "      <th>9</th>\n",
              "      <td>Benefits of cow urine: Science &amp; Technology Mi...</td>\n",
              "      <td>4</td>\n",
              "      <td>6nmxoy</td>\n",
              "      <td>http://www.thehindu.com/news/national/benefits...</td>\n",
              "      <td>1</td>\n",
              "      <td>NaN</td>\n",
              "      <td>Science &amp; Technology</td>\n",
              "      <td>2017-07-17 00:05:29</td>\n",
              "      <td>NaN</td>\n",
              "      <td>benefit cow urin sci technolog min head panel ...</td>\n",
              "    </tr>\n",
              "  </tbody>\n",
              "</table>\n",
              "</div>"
            ],
            "text/plain": [
              "                                               title  ...                                         cleantitle\n",
              "0  Covid 19 - Parliamentary Standing Committee on...  ...  covid parlia stand commit sci technolog invit ...\n",
              "1  [NP]FIITJEE - An institute that is supposed to...  ...  fiits institut suppos teach sci technolog u hi...\n",
              "2  What are the websites that cover science & tec...  ...             websit cov sci technolog new focus ind\n",
              "3  [Science & Technology] The secret to longevity...  ...          sci technolog secret longev microbiom gut\n",
              "4  [Science & Technology] 20 important discoverie...  ...                     sci technolog import discovery\n",
              "5  barkha dutt on Twitter: \"So JP Nadda is the ne...  ...  barkh dut twit nadd new heal min drharshvardha...\n",
              "6  Centre grants Rs 11 cr to Indian Institute of ...  ...  cent grant ind institut engin sci technolog ii...\n",
              "7  A place to discuss scientific and engineering ...  ...   plac discus sci engin research ind sci technolog\n",
              "8  India to Capture 10% of Global Medical Technol...  ...  ind capt glob med technolog market harsh vardh...\n",
              "9  Benefits of cow urine: Science & Technology Mi...  ...  benefit cow urin sci technolog min head panel ...\n",
              "\n",
              "[10 rows x 10 columns]"
            ]
          },
          "metadata": {
            "tags": []
          },
          "execution_count": 3
        }
      ]
    },
    {
      "cell_type": "code",
      "metadata": {
        "id": "SZmLHn1FuJtf",
        "colab_type": "code",
        "colab": {}
      },
      "source": [
        "df.fillna(\"\",inplace = True)"
      ],
      "execution_count": 4,
      "outputs": []
    },
    {
      "cell_type": "code",
      "metadata": {
        "id": "4LGlBoSHrRe4",
        "colab_type": "code",
        "colab": {}
      },
      "source": [
        "df['content']= df['cleantitle'] + ' ' + df['cleanbody']"
      ],
      "execution_count": 5,
      "outputs": []
    },
    {
      "cell_type": "code",
      "metadata": {
        "id": "GDa00nkltKzd",
        "colab_type": "code",
        "colab": {}
      },
      "source": [
        "X = df.content\n",
        "y = df.flair"
      ],
      "execution_count": 6,
      "outputs": []
    },
    {
      "cell_type": "code",
      "metadata": {
        "id": "EgcM0L0MxZ-F",
        "colab_type": "code",
        "colab": {}
      },
      "source": [
        "from sklearn.preprocessing import LabelEncoder\n",
        "encoder = LabelEncoder()\n",
        "y = encoder.fit_transform(y)"
      ],
      "execution_count": 7,
      "outputs": []
    },
    {
      "cell_type": "code",
      "metadata": {
        "id": "DaNfKzwWcLN3",
        "colab_type": "code",
        "colab": {}
      },
      "source": [
        "flairs={'Political','Non-political','Reddiquette','AskIndia','Science & Technology','Policy & Economy','Finance & Business','Sports and food','Photography','AMA'}"
      ],
      "execution_count": 8,
      "outputs": []
    },
    {
      "cell_type": "markdown",
      "metadata": {
        "id": "8RwdHLh1rrKy",
        "colab_type": "text"
      },
      "source": [
        "**Splitting the dataset**"
      ]
    },
    {
      "cell_type": "code",
      "metadata": {
        "id": "SJaqiF_stEPM",
        "colab_type": "code",
        "colab": {}
      },
      "source": [
        "X_train, X_test, y_train, y_test = train_test_split(X, y, test_size=0.2, random_state = 42)"
      ],
      "execution_count": 9,
      "outputs": []
    },
    {
      "cell_type": "markdown",
      "metadata": {
        "id": "9WVEtor5rzuY",
        "colab_type": "text"
      },
      "source": [
        "**Trying out various models**"
      ]
    },
    {
      "cell_type": "code",
      "metadata": {
        "id": "9Y_A512LszaO",
        "colab_type": "code",
        "colab": {}
      },
      "source": [
        "## Logistic Regression\n",
        "def logisticreg(X_train, X_test, y_train, y_test):\n",
        "\n",
        "  from sklearn.linear_model import LogisticRegression\n",
        "\n",
        "  logreg = Pipeline([('vect', CountVectorizer()),\n",
        "                  ('tfidf', TfidfTransformer()),\n",
        "                  ('clf', LogisticRegression()),\n",
        "                 ])\n",
        "  logreg.fit(X_train, y_train)\n",
        "\n",
        "  y_pred = logreg.predict(X_test)\n",
        "\n",
        "  print('accuracy %s' % accuracy_score(y_pred, y_test))\n",
        "  print(classification_report(y_test, y_pred,target_names=flairs))"
      ],
      "execution_count": 10,
      "outputs": []
    },
    {
      "cell_type": "code",
      "metadata": {
        "id": "Ajs9Kb6unq4f",
        "colab_type": "code",
        "colab": {}
      },
      "source": [
        "## Naive Bayes\n",
        "def nb_classifier(X_train, X_test, y_train, y_test):\n",
        "\n",
        "  nb= Pipeline([('vect', CountVectorizer()),\n",
        "                  ('tfidf', TfidfTransformer()),\n",
        "                  ('clf', MultinomialNB()),\n",
        "                 ])\n",
        "  nb.fit(X_train, y_train)\n",
        "\n",
        "  y_pred = nb.predict(X_test)\n",
        "\n",
        "  print('accuracy %s' % accuracy_score(y_pred, y_test))\n",
        "  print(classification_report(y_test, y_pred,target_names=flairs))"
      ],
      "execution_count": 11,
      "outputs": []
    },
    {
      "cell_type": "code",
      "metadata": {
        "id": "lIOYYKkvuPSS",
        "colab_type": "code",
        "colab": {}
      },
      "source": [
        "## Random forest\n",
        "def randomforest(X_train, X_test, y_train, y_test):\n",
        "  ranfor = Pipeline([('vect', CountVectorizer()),\n",
        "                  ('tfidf', TfidfTransformer()),\n",
        "                  ('clf', RandomForestClassifier(n_estimators = 1000, random_state = 42)),\n",
        "                 ])\n",
        "  ranfor.fit(X_train, y_train)\n",
        "\n",
        "  y_pred = ranfor.predict(X_test)\n",
        "\n",
        "  print('accuracy %s' % accuracy_score(y_pred, y_test))\n",
        "  print(classification_report(y_test, y_pred,target_names=flairs))"
      ],
      "execution_count": 12,
      "outputs": []
    },
    {
      "cell_type": "code",
      "metadata": {
        "id": "laXcmS00u4dq",
        "colab_type": "code",
        "colab": {}
      },
      "source": [
        "## XGBoost\n",
        "def xgbclassifier(X_train, X_test, y_train, y_test):  \n",
        "    xgb_clf = Pipeline([('vect', CountVectorizer()),\n",
        "                  ('tfidf', TfidfTransformer()),\n",
        "                  ('clf', XGBClassifier(random_state=42, seed=2, colsample_bytree=0.6, subsample=0.7,objective='multi:softmax')),\n",
        "                 ])\n",
        "    xgb_clf.fit(X_train, y_train)\n",
        "\n",
        "    y_pred = xgb_clf.predict(X_test)\n",
        "\n",
        "    print('accuracy %s' % accuracy_score(y_pred, y_test))\n",
        "    print(classification_report(y_test, y_pred,target_names=flairs))"
      ],
      "execution_count": 13,
      "outputs": []
    },
    {
      "cell_type": "code",
      "metadata": {
        "id": "wW2VaUaotY5k",
        "colab_type": "code",
        "colab": {
          "base_uri": "https://localhost:8080/",
          "height": 345
        },
        "outputId": "84a09ce7-85b6-4d79-fc33-f357a4525458"
      },
      "source": [
        "logisticreg(X_train, X_test, y_train, y_test)"
      ],
      "execution_count": 14,
      "outputs": [
        {
          "output_type": "stream",
          "text": [
            "accuracy 0.7566607460035524\n",
            "                      precision    recall  f1-score   support\n",
            "\n",
            "         Reddiquette       1.00      0.80      0.89        46\n",
            "    Policy & Economy       0.82      0.75      0.78        48\n",
            "       Non-political       0.60      0.72      0.65        46\n",
            "         Photography       0.93      0.76      0.83        49\n",
            "  Finance & Business       1.00      0.67      0.80        49\n",
            "           Political       0.69      0.60      0.64        48\n",
            "            AskIndia       0.64      0.86      0.73        90\n",
            "     Sports and food       1.00      0.57      0.72        23\n",
            "Science & Technology       0.71      0.66      0.68        59\n",
            "                 AMA       0.74      0.88      0.80       105\n",
            "\n",
            "            accuracy                           0.76       563\n",
            "           macro avg       0.81      0.73      0.76       563\n",
            "        weighted avg       0.78      0.76      0.76       563\n",
            "\n"
          ],
          "name": "stdout"
        }
      ]
    },
    {
      "cell_type": "code",
      "metadata": {
        "id": "j7FGbWggp9Db",
        "colab_type": "code",
        "colab": {
          "base_uri": "https://localhost:8080/",
          "height": 345
        },
        "outputId": "a617095d-05a8-43f1-d2b6-264959f4e004"
      },
      "source": [
        "nb_classifier(X_train, X_test, y_train, y_test)"
      ],
      "execution_count": 15,
      "outputs": [
        {
          "output_type": "stream",
          "text": [
            "accuracy 0.5310834813499112\n",
            "                      precision    recall  f1-score   support\n",
            "\n",
            "         Reddiquette       1.00      0.26      0.41        46\n",
            "    Policy & Economy       1.00      0.10      0.19        48\n",
            "       Non-political       0.44      0.76      0.56        46\n",
            "         Photography       1.00      0.04      0.08        49\n",
            "  Finance & Business       1.00      0.49      0.66        49\n",
            "           Political       0.84      0.33      0.48        48\n",
            "            AskIndia       0.52      0.79      0.63        90\n",
            "     Sports and food       1.00      0.39      0.56        23\n",
            "Science & Technology       0.57      0.53      0.55        59\n",
            "                 AMA       0.43      0.90      0.58       105\n",
            "\n",
            "            accuracy                           0.53       563\n",
            "           macro avg       0.78      0.46      0.47       563\n",
            "        weighted avg       0.71      0.53      0.49       563\n",
            "\n"
          ],
          "name": "stdout"
        }
      ]
    },
    {
      "cell_type": "code",
      "metadata": {
        "id": "1x9OwHCcuYBC",
        "colab_type": "code",
        "colab": {
          "base_uri": "https://localhost:8080/",
          "height": 345
        },
        "outputId": "3629f996-a9ef-414a-c8ca-6b8ff8cc38e4"
      },
      "source": [
        "randomforest(X_train, X_test, y_train, y_test)"
      ],
      "execution_count": 16,
      "outputs": [
        {
          "output_type": "stream",
          "text": [
            "accuracy 0.8241563055062167\n",
            "                      precision    recall  f1-score   support\n",
            "\n",
            "         Reddiquette       0.93      0.89      0.91        46\n",
            "    Policy & Economy       0.96      0.92      0.94        48\n",
            "       Non-political       0.67      0.78      0.72        46\n",
            "         Photography       0.92      0.92      0.92        49\n",
            "  Finance & Business       0.97      0.73      0.84        49\n",
            "           Political       0.71      0.67      0.69        48\n",
            "            AskIndia       0.66      0.87      0.75        90\n",
            "     Sports and food       1.00      0.65      0.79        23\n",
            "Science & Technology       0.82      0.83      0.82        59\n",
            "                 AMA       0.93      0.84      0.88       105\n",
            "\n",
            "            accuracy                           0.82       563\n",
            "           macro avg       0.86      0.81      0.83       563\n",
            "        weighted avg       0.84      0.82      0.83       563\n",
            "\n"
          ],
          "name": "stdout"
        }
      ]
    },
    {
      "cell_type": "code",
      "metadata": {
        "id": "Q6IMn3OrvQ-v",
        "colab_type": "code",
        "colab": {
          "base_uri": "https://localhost:8080/",
          "height": 345
        },
        "outputId": "61202da2-1110-4d45-8372-fccddda066ba"
      },
      "source": [
        "xgbclassifier(X_train, X_test, y_train, y_test)"
      ],
      "execution_count": 17,
      "outputs": [
        {
          "output_type": "stream",
          "text": [
            "accuracy 0.8543516873889876\n",
            "                      precision    recall  f1-score   support\n",
            "\n",
            "         Reddiquette       0.95      0.91      0.93        46\n",
            "    Policy & Economy       0.98      0.96      0.97        48\n",
            "       Non-political       0.76      0.83      0.79        46\n",
            "         Photography       0.91      0.98      0.94        49\n",
            "  Finance & Business       0.98      0.84      0.90        49\n",
            "           Political       0.81      0.71      0.76        48\n",
            "            AskIndia       0.65      0.89      0.75        90\n",
            "     Sports and food       1.00      0.83      0.90        23\n",
            "Science & Technology       0.94      0.80      0.86        59\n",
            "                 AMA       0.93      0.82      0.87       105\n",
            "\n",
            "            accuracy                           0.85       563\n",
            "           macro avg       0.89      0.86      0.87       563\n",
            "        weighted avg       0.87      0.85      0.86       563\n",
            "\n"
          ],
          "name": "stdout"
        }
      ]
    },
    {
      "cell_type": "markdown",
      "metadata": {
        "id": "1tVEGTafr7JW",
        "colab_type": "text"
      },
      "source": [
        "Since XGBoost Classifier has the highest accuracy, we will go with it and save the model."
      ]
    },
    {
      "cell_type": "code",
      "metadata": {
        "id": "KDNhN0kgt7jK",
        "colab_type": "code",
        "colab": {}
      },
      "source": [
        "import xgboost as xgb\n",
        "X_train, X_test, y_train, y_test = train_test_split(X,y, test_size=0.2, random_state = 42)\n",
        "model = Pipeline([('vect', CountVectorizer()),\n",
        "                   ('tfidf', TfidfTransformer()),\n",
        "                   ('clf', xgb.sklearn.XGBClassifier(random_state=42, seed=2, colsample_bytree=0.6, subsample=0.7,objective='multi:softmax')),\n",
        "                  ])\n",
        "XGB = model.fit(X_train, y_train)\n",
        "pickle.dump(XGB,open(\"xgb.bin\",'wb'))\n",
        "y_pred = model.predict(X_test)"
      ],
      "execution_count": 18,
      "outputs": []
    },
    {
      "cell_type": "code",
      "metadata": {
        "id": "LRZRyjKspD4A",
        "colab_type": "code",
        "colab": {}
      },
      "source": [
        ""
      ],
      "execution_count": 18,
      "outputs": []
    }
  ]
}