{
  "nbformat": 4,
  "nbformat_minor": 0,
  "metadata": {
    "colab": {
      "name": "Reddit_data_collection",
      "provenance": []
    },
    "kernelspec": {
      "name": "python3",
      "display_name": "Python 3"
    }
  },
  "cells": [
    {
      "cell_type": "code",
      "metadata": {
        "id": "cXRTdEm6qCqx",
        "colab_type": "code",
        "colab": {
          "base_uri": "https://localhost:8080/",
          "height": 365
        },
        "outputId": "745e1b4e-b3b2-4ae6-ce57-fe17dc06c6e4"
      },
      "source": [
        "pip install praw"
      ],
      "execution_count": 1,
      "outputs": [
        {
          "output_type": "stream",
          "text": [
            "Collecting praw\n",
            "\u001b[?25l  Downloading https://files.pythonhosted.org/packages/2c/15/4bcc44271afce0316c73cd2ed35f951f1363a07d4d5d5440ae5eb2baad78/praw-7.1.0-py3-none-any.whl (152kB)\n",
            "\r\u001b[K     |██▏                             | 10kB 14.3MB/s eta 0:00:01\r\u001b[K     |████▎                           | 20kB 1.9MB/s eta 0:00:01\r\u001b[K     |██████▌                         | 30kB 2.4MB/s eta 0:00:01\r\u001b[K     |████████▋                       | 40kB 2.6MB/s eta 0:00:01\r\u001b[K     |██████████▊                     | 51kB 2.1MB/s eta 0:00:01\r\u001b[K     |█████████████                   | 61kB 2.4MB/s eta 0:00:01\r\u001b[K     |███████████████                 | 71kB 2.6MB/s eta 0:00:01\r\u001b[K     |█████████████████▎              | 81kB 2.8MB/s eta 0:00:01\r\u001b[K     |███████████████████▍            | 92kB 3.0MB/s eta 0:00:01\r\u001b[K     |█████████████████████▌          | 102kB 2.9MB/s eta 0:00:01\r\u001b[K     |███████████████████████▊        | 112kB 2.9MB/s eta 0:00:01\r\u001b[K     |█████████████████████████▉      | 122kB 2.9MB/s eta 0:00:01\r\u001b[K     |████████████████████████████    | 133kB 2.9MB/s eta 0:00:01\r\u001b[K     |██████████████████████████████▏ | 143kB 2.9MB/s eta 0:00:01\r\u001b[K     |████████████████████████████████| 153kB 2.9MB/s \n",
            "\u001b[?25hCollecting websocket-client>=0.54.0\n",
            "\u001b[?25l  Downloading https://files.pythonhosted.org/packages/4c/5f/f61b420143ed1c8dc69f9eaec5ff1ac36109d52c80de49d66e0c36c3dfdf/websocket_client-0.57.0-py2.py3-none-any.whl (200kB)\n",
            "\r\u001b[K     |█▋                              | 10kB 16.8MB/s eta 0:00:01\r\u001b[K     |███▎                            | 20kB 22.5MB/s eta 0:00:01\r\u001b[K     |█████                           | 30kB 27.1MB/s eta 0:00:01\r\u001b[K     |██████▌                         | 40kB 21.7MB/s eta 0:00:01\r\u001b[K     |████████▏                       | 51kB 13.1MB/s eta 0:00:01\r\u001b[K     |█████████▉                      | 61kB 12.7MB/s eta 0:00:01\r\u001b[K     |███████████▍                    | 71kB 12.0MB/s eta 0:00:01\r\u001b[K     |█████████████                   | 81kB 11.4MB/s eta 0:00:01\r\u001b[K     |██████████████▊                 | 92kB 7.9MB/s eta 0:00:01\r\u001b[K     |████████████████▎               | 102kB 8.4MB/s eta 0:00:01\r\u001b[K     |██████████████████              | 112kB 8.4MB/s eta 0:00:01\r\u001b[K     |███████████████████▋            | 122kB 8.4MB/s eta 0:00:01\r\u001b[K     |█████████████████████▏          | 133kB 8.4MB/s eta 0:00:01\r\u001b[K     |██████████████████████▉         | 143kB 8.4MB/s eta 0:00:01\r\u001b[K     |████████████████████████▌       | 153kB 8.4MB/s eta 0:00:01\r\u001b[K     |██████████████████████████      | 163kB 8.4MB/s eta 0:00:01\r\u001b[K     |███████████████████████████▊    | 174kB 8.4MB/s eta 0:00:01\r\u001b[K     |█████████████████████████████▍  | 184kB 8.4MB/s eta 0:00:01\r\u001b[K     |███████████████████████████████ | 194kB 8.4MB/s eta 0:00:01\r\u001b[K     |████████████████████████████████| 204kB 8.4MB/s \n",
            "\u001b[?25hCollecting prawcore<2.0,>=1.3.0\n",
            "  Downloading https://files.pythonhosted.org/packages/61/89/651078078f089c182164efd10d45d3b709b46e4e40b47e63759e76349dc1/prawcore-1.4.0-py3-none-any.whl\n",
            "Collecting update-checker>=0.17\n",
            "  Downloading https://files.pythonhosted.org/packages/d6/c3/aaf8a162df8e8f9d321237c7c0e63aff95b42d19f1758f96606e3cabb245/update_checker-0.17-py2.py3-none-any.whl\n",
            "Requirement already satisfied: six in /usr/local/lib/python3.6/dist-packages (from websocket-client>=0.54.0->praw) (1.12.0)\n",
            "Requirement already satisfied: requests<3.0,>=2.6.0 in /usr/local/lib/python3.6/dist-packages (from prawcore<2.0,>=1.3.0->praw) (2.23.0)\n",
            "Requirement already satisfied: certifi>=2017.4.17 in /usr/local/lib/python3.6/dist-packages (from requests<3.0,>=2.6.0->prawcore<2.0,>=1.3.0->praw) (2020.6.20)\n",
            "Requirement already satisfied: idna<3,>=2.5 in /usr/local/lib/python3.6/dist-packages (from requests<3.0,>=2.6.0->prawcore<2.0,>=1.3.0->praw) (2.9)\n",
            "Requirement already satisfied: chardet<4,>=3.0.2 in /usr/local/lib/python3.6/dist-packages (from requests<3.0,>=2.6.0->prawcore<2.0,>=1.3.0->praw) (3.0.4)\n",
            "Requirement already satisfied: urllib3!=1.25.0,!=1.25.1,<1.26,>=1.21.1 in /usr/local/lib/python3.6/dist-packages (from requests<3.0,>=2.6.0->prawcore<2.0,>=1.3.0->praw) (1.24.3)\n",
            "Installing collected packages: websocket-client, prawcore, update-checker, praw\n",
            "Successfully installed praw-7.1.0 prawcore-1.4.0 update-checker-0.17 websocket-client-0.57.0\n"
          ],
          "name": "stdout"
        }
      ]
    },
    {
      "cell_type": "code",
      "metadata": {
        "id": "DjYVVHm9ppr5",
        "colab_type": "code",
        "colab": {}
      },
      "source": [
        "import praw\n",
        "import pandas as pd\n",
        "import numpy as np\n",
        "import datetime as dt\n",
        "import matplotlib.pyplot as plt"
      ],
      "execution_count": 2,
      "outputs": []
    },
    {
      "cell_type": "code",
      "metadata": {
        "id": "EV0pzq1vqGkv",
        "colab_type": "code",
        "colab": {}
      },
      "source": [
        "reddit = praw.Reddit(client_id='QHdGeZaYJfEzVQ', client_secret='wB-rAU3ZPOTZylLxUQas-QBszyk', user_agent='somya')\n",
        "subreddit = reddit.subreddit('india')"
      ],
      "execution_count": 3,
      "outputs": []
    },
    {
      "cell_type": "code",
      "metadata": {
        "id": "73EV9hWE0fAH",
        "colab_type": "code",
        "colab": {}
      },
      "source": [
        "flair_dict={'Political','Non-political','Reddiquette','AskIndia','Science & Technology','Policy & Economy','Finance & Business','Sports and food','Photography','AMA'}"
      ],
      "execution_count": 5,
      "outputs": []
    },
    {
      "cell_type": "code",
      "metadata": {
        "id": "NYwXgILb-bv2",
        "colab_type": "code",
        "colab": {}
      },
      "source": [
        "# Function to convert timestamp to datetime\n",
        "def get_date(created):\n",
        "    return dt.datetime.fromtimestamp(created)"
      ],
      "execution_count": 6,
      "outputs": []
    },
    {
      "cell_type": "code",
      "metadata": {
        "id": "dZCLJOL09Qbj",
        "colab_type": "code",
        "colab": {
          "base_uri": "https://localhost:8080/",
          "height": 35
        },
        "outputId": "770b776d-2d20-4043-f4b6-31232e84be0f"
      },
      "source": [
        "topics_dict = { \"title\":[],\"score\":[],\"id\":[],\"url\":[],\"comms_num\": [],\"created\": [],\"body\":[],\"flair\":[]}\n",
        "for flair in flair_dict:\n",
        "    for submission in subreddit.search(flair,limit=1000):\n",
        "        topics_dict[\"title\"].append(submission.title)\n",
        "        topics_dict[\"score\"].append(submission.score)\n",
        "        topics_dict[\"id\"].append(submission.id)\n",
        "        topics_dict[\"url\"].append(submission.url)\n",
        "        topics_dict[\"comms_num\"].append(submission.num_comments)\n",
        "        topics_dict[\"created\"].append(submission.created)\n",
        "        topics_dict[\"body\"].append(submission.selftext)\n",
        "        topics_dict[\"flair\"].append(flair)\n",
        "\n",
        "data = pd.DataFrame(topics_dict)\n",
        "len(data['title'])"
      ],
      "execution_count": 30,
      "outputs": [
        {
          "output_type": "execute_result",
          "data": {
            "text/plain": [
              "1963"
            ]
          },
          "metadata": {
            "tags": []
          },
          "execution_count": 30
        }
      ]
    },
    {
      "cell_type": "code",
      "metadata": {
        "id": "_qzamLZi-fZE",
        "colab_type": "code",
        "colab": {
          "base_uri": "https://localhost:8080/",
          "height": 676
        },
        "outputId": "cd04676b-a66e-49a0-cb2b-bce14a69c026"
      },
      "source": [
        "data.tail(10)"
      ],
      "execution_count": 31,
      "outputs": [
        {
          "output_type": "execute_result",
          "data": {
            "text/html": [
              "<div>\n",
              "<style scoped>\n",
              "    .dataframe tbody tr th:only-of-type {\n",
              "        vertical-align: middle;\n",
              "    }\n",
              "\n",
              "    .dataframe tbody tr th {\n",
              "        vertical-align: top;\n",
              "    }\n",
              "\n",
              "    .dataframe thead th {\n",
              "        text-align: right;\n",
              "    }\n",
              "</style>\n",
              "<table border=\"1\" class=\"dataframe\">\n",
              "  <thead>\n",
              "    <tr style=\"text-align: right;\">\n",
              "      <th></th>\n",
              "      <th>title</th>\n",
              "      <th>score</th>\n",
              "      <th>id</th>\n",
              "      <th>url</th>\n",
              "      <th>comms_num</th>\n",
              "      <th>created</th>\n",
              "      <th>body</th>\n",
              "      <th>flair</th>\n",
              "    </tr>\n",
              "  </thead>\n",
              "  <tbody>\n",
              "    <tr>\n",
              "      <th>1953</th>\n",
              "      <td>Compare with India: Wall St Jrnl praises S Kor...</td>\n",
              "      <td>2</td>\n",
              "      <td>1joxi7</td>\n",
              "      <td>https://www.reddit.com/r/india/comments/1joxi7...</td>\n",
              "      <td>7</td>\n",
              "      <td>1.375671e+09</td>\n",
              "      <td>Read till the end:\\n\\nhttp://online.wsj.com/ar...</td>\n",
              "      <td>Science &amp; Technology</td>\n",
              "    </tr>\n",
              "    <tr>\n",
              "      <th>1954</th>\n",
              "      <td>Make In India</td>\n",
              "      <td>1</td>\n",
              "      <td>35oidm</td>\n",
              "      <td>https://www.reddit.com/r/india/comments/35oidm...</td>\n",
              "      <td>4</td>\n",
              "      <td>1.431438e+09</td>\n",
              "      <td>Hello fellows! how can we know of goods and ma...</td>\n",
              "      <td>Science &amp; Technology</td>\n",
              "    </tr>\n",
              "    <tr>\n",
              "      <th>1955</th>\n",
              "      <td>Why Indian Institutes are not able to rank wel...</td>\n",
              "      <td>0</td>\n",
              "      <td>51n3bb</td>\n",
              "      <td>https://www.reddit.com/r/india/comments/51n3bb...</td>\n",
              "      <td>0</td>\n",
              "      <td>1.473306e+09</td>\n",
              "      <td>According to the reputed QS World University R...</td>\n",
              "      <td>Science &amp; Technology</td>\n",
              "    </tr>\n",
              "    <tr>\n",
              "      <th>1956</th>\n",
              "      <td>[NP] 70 years of Independence: India's journey...</td>\n",
              "      <td>1</td>\n",
              "      <td>4xtcdd</td>\n",
              "      <td>https://www.reddit.com/r/india/comments/4xtcdd...</td>\n",
              "      <td>1</td>\n",
              "      <td>1.471293e+09</td>\n",
              "      <td>Nearly 60% of Indians are below the age group ...</td>\n",
              "      <td>Science &amp; Technology</td>\n",
              "    </tr>\n",
              "    <tr>\n",
              "      <th>1957</th>\n",
              "      <td>How many of you think that India has any hope ...</td>\n",
              "      <td>0</td>\n",
              "      <td>10qekr</td>\n",
              "      <td>https://www.reddit.com/r/india/comments/10qekr...</td>\n",
              "      <td>11</td>\n",
              "      <td>1.349077e+09</td>\n",
              "      <td>Accept it or not, right now the country is a m...</td>\n",
              "      <td>Science &amp; Technology</td>\n",
              "    </tr>\n",
              "    <tr>\n",
              "      <th>1958</th>\n",
              "      <td>r/India! What other subreddits do you visit</td>\n",
              "      <td>1</td>\n",
              "      <td>1pqkjo</td>\n",
              "      <td>https://www.reddit.com/r/india/comments/1pqkjo...</td>\n",
              "      <td>4</td>\n",
              "      <td>1.383401e+09</td>\n",
              "      <td>Points for the more obscure ones, and for find...</td>\n",
              "      <td>Science &amp; Technology</td>\n",
              "    </tr>\n",
              "    <tr>\n",
              "      <th>1959</th>\n",
              "      <td>UG courses/colleges relating to computers for ...</td>\n",
              "      <td>0</td>\n",
              "      <td>46qon4</td>\n",
              "      <td>https://www.reddit.com/r/india/comments/46qon4...</td>\n",
              "      <td>1</td>\n",
              "      <td>1.456014e+09</td>\n",
              "      <td>I'm 18 y.o. commerce with maths student. I am ...</td>\n",
              "      <td>Science &amp; Technology</td>\n",
              "    </tr>\n",
              "    <tr>\n",
              "      <th>1960</th>\n",
              "      <td>Please consider buying our book \"India 2020 --...</td>\n",
              "      <td>9</td>\n",
              "      <td>13ehd8</td>\n",
              "      <td>https://www.reddit.com/r/india/comments/13ehd8...</td>\n",
              "      <td>2</td>\n",
              "      <td>1.353284e+09</td>\n",
              "      <td>A friend and I have co-written this book:\\nhtt...</td>\n",
              "      <td>Science &amp; Technology</td>\n",
              "    </tr>\n",
              "    <tr>\n",
              "      <th>1961</th>\n",
              "      <td>An Exposition and Solution to the NGO problem</td>\n",
              "      <td>1</td>\n",
              "      <td>28fy7b</td>\n",
              "      <td>https://www.reddit.com/r/india/comments/28fy7b...</td>\n",
              "      <td>1</td>\n",
              "      <td>1.403106e+09</td>\n",
              "      <td>**Disclaimer**: I am not the author. This exce...</td>\n",
              "      <td>Science &amp; Technology</td>\n",
              "    </tr>\n",
              "    <tr>\n",
              "      <th>1962</th>\n",
              "      <td>Mobile Harvest in India</td>\n",
              "      <td>0</td>\n",
              "      <td>23c8xq</td>\n",
              "      <td>https://www.reddit.com/r/india/comments/23c8xq...</td>\n",
              "      <td>0</td>\n",
              "      <td>1.397834e+09</td>\n",
              "      <td>Erratic weather, manipulation by GM companies ...</td>\n",
              "      <td>Science &amp; Technology</td>\n",
              "    </tr>\n",
              "  </tbody>\n",
              "</table>\n",
              "</div>"
            ],
            "text/plain": [
              "                                                  title  ...                 flair\n",
              "1953  Compare with India: Wall St Jrnl praises S Kor...  ...  Science & Technology\n",
              "1954                                      Make In India  ...  Science & Technology\n",
              "1955  Why Indian Institutes are not able to rank wel...  ...  Science & Technology\n",
              "1956  [NP] 70 years of Independence: India's journey...  ...  Science & Technology\n",
              "1957  How many of you think that India has any hope ...  ...  Science & Technology\n",
              "1958        r/India! What other subreddits do you visit  ...  Science & Technology\n",
              "1959  UG courses/colleges relating to computers for ...  ...  Science & Technology\n",
              "1960  Please consider buying our book \"India 2020 --...  ...  Science & Technology\n",
              "1961      An Exposition and Solution to the NGO problem  ...  Science & Technology\n",
              "1962                            Mobile Harvest in India  ...  Science & Technology\n",
              "\n",
              "[10 rows x 8 columns]"
            ]
          },
          "metadata": {
            "tags": []
          },
          "execution_count": 31
        }
      ]
    },
    {
      "cell_type": "code",
      "metadata": {
        "id": "GUFaP6yg9-GA",
        "colab_type": "code",
        "colab": {}
      },
      "source": [
        "# Converting timestamp to datetime format\n",
        "_timestamp = data[\"created\"].apply(get_date)\n",
        "data = data.assign(timestamp = _timestamp)\n",
        "del data['created']"
      ],
      "execution_count": 32,
      "outputs": []
    },
    {
      "cell_type": "code",
      "metadata": {
        "id": "QrsCyoh71bu8",
        "colab_type": "code",
        "colab": {
          "base_uri": "https://localhost:8080/",
          "height": 217
        },
        "outputId": "cd5c4316-391d-4366-d8e6-b6b59f41c227"
      },
      "source": [
        "data['flair'].value_counts()"
      ],
      "execution_count": 33,
      "outputs": [
        {
          "output_type": "execute_result",
          "data": {
            "text/plain": [
              "Political               247\n",
              "Finance & Business      231\n",
              "AskIndia                230\n",
              "Photography             221\n",
              "Policy & Economy        220\n",
              "Non-political           216\n",
              "AMA                     213\n",
              "Science & Technology    202\n",
              "Reddiquette             131\n",
              "Sports and food          52\n",
              "Name: flair, dtype: int64"
            ]
          },
          "metadata": {
            "tags": []
          },
          "execution_count": 33
        }
      ]
    },
    {
      "cell_type": "code",
      "metadata": {
        "id": "Tilbrn7g1TAI",
        "colab_type": "code",
        "colab": {
          "base_uri": "https://localhost:8080/",
          "height": 624
        },
        "outputId": "b5def908-078e-4238-db5a-f02bed961d10"
      },
      "source": [
        "plot = data['flair'].value_counts().plot(kind='bar', figsize=(15,7), color=\"coral\", fontsize=14);\n",
        "plot.set_title(\"\\n Analyzing the variety of flairs in top posts over a year \\n\", fontsize=16)\n",
        "plot.set_ylabel(\"Number of posts\", fontsize=14);\n",
        "\n",
        "# Find the values and their sum\n",
        "totals = []\n",
        "for i in plot.patches:\n",
        "    totals.append(i.get_height())\n",
        "total = np.sum(totals)\n",
        "\n",
        "# Set individual bar lables using above list\n",
        "for i in plot.patches:\n",
        "    # get_x pulls left or right; get_height pushes up or down\n",
        "    plot.text(i.get_x()-0.05, i.get_height()+ 2, str(round((i.get_height()/total)*100, 2))+'%', fontsize=14)"
      ],
      "execution_count": 34,
      "outputs": [
        {
          "output_type": "display_data",
          "data": {
            "image/png": "[encoded data removed]",
            "text/plain": [
              "<Figure size 1080x504 with 1 Axes>"
            ]
          },
          "metadata": {
            "tags": [],
            "needs_background": "light"
          }
        }
      ]
    },
    {
      "cell_type": "code",
      "metadata": {
        "id": "a8kFOV_7_Bah",
        "colab_type": "code",
        "colab": {
          "base_uri": "https://localhost:8080/",
          "height": 825
        },
        "outputId": "d71bf126-43f8-41a0-90bc-d0f7d71bea05"
      },
      "source": [
        "new=pd.read_csv('/content/drive/My Drive/reddit_data.csv')\n",
        "new"
      ],
      "execution_count": 37,
      "outputs": [
        {
          "output_type": "execute_result",
          "data": {
            "text/html": [
              "<div>\n",
              "<style scoped>\n",
              "    .dataframe tbody tr th:only-of-type {\n",
              "        vertical-align: middle;\n",
              "    }\n",
              "\n",
              "    .dataframe tbody tr th {\n",
              "        vertical-align: top;\n",
              "    }\n",
              "\n",
              "    .dataframe thead th {\n",
              "        text-align: right;\n",
              "    }\n",
              "</style>\n",
              "<table border=\"1\" class=\"dataframe\">\n",
              "  <thead>\n",
              "    <tr style=\"text-align: right;\">\n",
              "      <th></th>\n",
              "      <th>Unnamed: 0</th>\n",
              "      <th>title</th>\n",
              "      <th>score</th>\n",
              "      <th>id</th>\n",
              "      <th>subreddit</th>\n",
              "      <th>url</th>\n",
              "      <th>num_comments</th>\n",
              "      <th>body</th>\n",
              "      <th>created</th>\n",
              "      <th>flair</th>\n",
              "    </tr>\n",
              "  </thead>\n",
              "  <tbody>\n",
              "    <tr>\n",
              "      <th>0</th>\n",
              "      <td>0</td>\n",
              "      <td>Attractive men, what type of attention do you ...</td>\n",
              "      <td>20</td>\n",
              "      <td>cprtaa</td>\n",
              "      <td>india</td>\n",
              "      <td>https://www.reddit.com/r/india/comments/cprtaa...</td>\n",
              "      <td>21</td>\n",
              "      <td>xposted from /r/askmen, posted here because In...</td>\n",
              "      <td>1.565725e+09</td>\n",
              "      <td>AskIndia</td>\n",
              "    </tr>\n",
              "    <tr>\n",
              "      <th>1</th>\n",
              "      <td>1</td>\n",
              "      <td>[askindia] My brothers bank account was hacked...</td>\n",
              "      <td>42</td>\n",
              "      <td>dacmel</td>\n",
              "      <td>india</td>\n",
              "      <td>https://www.reddit.com/r/india/comments/dacmel...</td>\n",
              "      <td>64</td>\n",
              "      <td>My brother received bunch of SMS this morning ...</td>\n",
              "      <td>1.569682e+09</td>\n",
              "      <td>AskIndia</td>\n",
              "    </tr>\n",
              "    <tr>\n",
              "      <th>2</th>\n",
              "      <td>2</td>\n",
              "      <td>[AskIndia] What song is this ?</td>\n",
              "      <td>5</td>\n",
              "      <td>comakt</td>\n",
              "      <td>india</td>\n",
              "      <td>https://www.reddit.com/r/india/comments/comakt...</td>\n",
              "      <td>6</td>\n",
              "      <td>Often when I think of home there is a particul...</td>\n",
              "      <td>1.565493e+09</td>\n",
              "      <td>AskIndia</td>\n",
              "    </tr>\n",
              "    <tr>\n",
              "      <th>3</th>\n",
              "      <td>3</td>\n",
              "      <td>[AskIndia][Serious] Is it worth attempting imm...</td>\n",
              "      <td>55</td>\n",
              "      <td>c4ilk5</td>\n",
              "      <td>india</td>\n",
              "      <td>https://www.reddit.com/r/india/comments/c4ilk5...</td>\n",
              "      <td>115</td>\n",
              "      <td>Title. \\n\\nFrom what I understand based on arm...</td>\n",
              "      <td>1.561382e+09</td>\n",
              "      <td>AskIndia</td>\n",
              "    </tr>\n",
              "    <tr>\n",
              "      <th>4</th>\n",
              "      <td>4</td>\n",
              "      <td>[AskIndia] What are some cheap but reliable an...</td>\n",
              "      <td>21</td>\n",
              "      <td>dpmgmj</td>\n",
              "      <td>india</td>\n",
              "      <td>https://www.reddit.com/r/india/comments/dpmgmj...</td>\n",
              "      <td>25</td>\n",
              "      <td>I won't play games or edit videos.\\n\\nI will u...</td>\n",
              "      <td>1.572552e+09</td>\n",
              "      <td>AskIndia</td>\n",
              "    </tr>\n",
              "    <tr>\n",
              "      <th>...</th>\n",
              "      <td>...</td>\n",
              "      <td>...</td>\n",
              "      <td>...</td>\n",
              "      <td>...</td>\n",
              "      <td>...</td>\n",
              "      <td>...</td>\n",
              "      <td>...</td>\n",
              "      <td>...</td>\n",
              "      <td>...</td>\n",
              "      <td>...</td>\n",
              "    </tr>\n",
              "    <tr>\n",
              "      <th>2505</th>\n",
              "      <td>2505</td>\n",
              "      <td>MASAAN director Neeraj Ghaywan here. I'm here ...</td>\n",
              "      <td>207</td>\n",
              "      <td>3f10la</td>\n",
              "      <td>india</td>\n",
              "      <td>https://www.reddit.com/r/india/comments/3f10la...</td>\n",
              "      <td>198</td>\n",
              "      <td>Thank you for taking time out guys. I *really*...</td>\n",
              "      <td>1.438207e+09</td>\n",
              "      <td>AMA</td>\n",
              "    </tr>\n",
              "    <tr>\n",
              "      <th>2506</th>\n",
              "      <td>2506</td>\n",
              "      <td>[AMAA] I just got scammed out of Rs 51,000 AMA!</td>\n",
              "      <td>186</td>\n",
              "      <td>2kvbea</td>\n",
              "      <td>india</td>\n",
              "      <td>https://www.reddit.com/r/india/comments/2kvbea...</td>\n",
              "      <td>338</td>\n",
              "      <td>Like I said, I thought I was paying Rs 50k (ad...</td>\n",
              "      <td>1.414776e+09</td>\n",
              "      <td>AMA</td>\n",
              "    </tr>\n",
              "    <tr>\n",
              "      <th>2507</th>\n",
              "      <td>2507</td>\n",
              "      <td>r/IndiaInvestments is having an AMA with Gaura...</td>\n",
              "      <td>17</td>\n",
              "      <td>8hy5eh</td>\n",
              "      <td>india</td>\n",
              "      <td>https://www.reddit.com/r/india/comments/8hy5eh...</td>\n",
              "      <td>6</td>\n",
              "      <td>https://np.reddit.com/r/IndiaInvestments/comme...</td>\n",
              "      <td>1.525826e+09</td>\n",
              "      <td>AMA</td>\n",
              "    </tr>\n",
              "    <tr>\n",
              "      <th>2508</th>\n",
              "      <td>2508</td>\n",
              "      <td>Hi r/India, I'm Nikhil Pahwa. AMA!</td>\n",
              "      <td>79</td>\n",
              "      <td>4vm9nk</td>\n",
              "      <td>india</td>\n",
              "      <td>https://www.reddit.com/r/india/comments/4vm9nk...</td>\n",
              "      <td>95</td>\n",
              "      <td>Hi, I'm Nikhil Pahwa, /u/atnixxin, and I compl...</td>\n",
              "      <td>1.470084e+09</td>\n",
              "      <td>AMA</td>\n",
              "    </tr>\n",
              "    <tr>\n",
              "      <th>2509</th>\n",
              "      <td>2509</td>\n",
              "      <td>I am an ex-\"christian convert\" who spent 20 ye...</td>\n",
              "      <td>120</td>\n",
              "      <td>2m1dfu</td>\n",
              "      <td>india</td>\n",
              "      <td>https://www.reddit.com/r/india/comments/2m1dfu...</td>\n",
              "      <td>396</td>\n",
              "      <td>I converted to Christianity on my own accord d...</td>\n",
              "      <td>1.415792e+09</td>\n",
              "      <td>AMA</td>\n",
              "    </tr>\n",
              "  </tbody>\n",
              "</table>\n",
              "<p>2510 rows × 10 columns</p>\n",
              "</div>"
            ],
            "text/plain": [
              "      Unnamed: 0  ...     flair\n",
              "0              0  ...  AskIndia\n",
              "1              1  ...  AskIndia\n",
              "2              2  ...  AskIndia\n",
              "3              3  ...  AskIndia\n",
              "4              4  ...  AskIndia\n",
              "...          ...  ...       ...\n",
              "2505        2505  ...       AMA\n",
              "2506        2506  ...       AMA\n",
              "2507        2507  ...       AMA\n",
              "2508        2508  ...       AMA\n",
              "2509        2509  ...       AMA\n",
              "\n",
              "[2510 rows x 10 columns]"
            ]
          },
          "metadata": {
            "tags": []
          },
          "execution_count": 37
        }
      ]
    },
    {
      "cell_type": "code",
      "metadata": {
        "id": "2IalenpAsTSQ",
        "colab_type": "code",
        "colab": {
          "base_uri": "https://localhost:8080/",
          "height": 235
        },
        "outputId": "1ce858de-0808-4a67-a36a-bdc1584926c1"
      },
      "source": [
        "new['flair'].value_counts()"
      ],
      "execution_count": 38,
      "outputs": [
        {
          "output_type": "execute_result",
          "data": {
            "text/plain": [
              "Politics              247\n",
              "Food                  242\n",
              "Scheduled             234\n",
              "Business/Finance      233\n",
              "AskIndia              232\n",
              "Sports                231\n",
              "Photography           222\n",
              "Science/Technology    221\n",
              "Policy/Economy        220\n",
              "Non-Political         216\n",
              "AMA                   212\n",
              "Name: flair, dtype: int64"
            ]
          },
          "metadata": {
            "tags": []
          },
          "execution_count": 38
        }
      ]
    },
    {
      "cell_type": "code",
      "metadata": {
        "id": "wUDlWtALf0gI",
        "colab_type": "code",
        "colab": {}
      },
      "source": [
        "# Function to convert timestamp to datetime\n",
        "def get_date(created):\n",
        "    return dt.datetime.fromtimestamp(created)\n",
        "# Converting timestamp to datetime format\n",
        "_timestamp = new[\"created\"].apply(get_date)\n",
        "new = new.assign(timestamp = _timestamp)\n",
        "del new['created']"
      ],
      "execution_count": 39,
      "outputs": []
    },
    {
      "cell_type": "code",
      "metadata": {
        "id": "E-SjVM9UgOp0",
        "colab_type": "code",
        "colab": {}
      },
      "source": [
        "new=new.rename(columns={'num_comments': 'comms_num'})"
      ],
      "execution_count": 40,
      "outputs": []
    },
    {
      "cell_type": "code",
      "metadata": {
        "id": "oTJWIHGYgn40",
        "colab_type": "code",
        "colab": {}
      },
      "source": [
        "new.drop(['subreddit','Unnamed: 0'],axis=1, inplace=True)"
      ],
      "execution_count": 41,
      "outputs": []
    },
    {
      "cell_type": "code",
      "metadata": {
        "id": "HduEbreegvDx",
        "colab_type": "code",
        "colab": {}
      },
      "source": [
        "dictionary={'Politics' : 'Political','Non-Political': 'Non-political','Science/Technology': 'Science & Technology','Policy/Economy' : 'Policy & Economy','Business/Finance': 'Finance & Business','Sports': 'Sports and food', 'Food': 'Sports and food'}"
      ],
      "execution_count": 42,
      "outputs": []
    },
    {
      "cell_type": "code",
      "metadata": {
        "id": "pbkIb2PKhK5F",
        "colab_type": "code",
        "colab": {}
      },
      "source": [
        "new['flair']=new['flair'].map(dictionary)"
      ],
      "execution_count": 43,
      "outputs": []
    },
    {
      "cell_type": "code",
      "metadata": {
        "id": "ERKvX9u1hSa0",
        "colab_type": "code",
        "colab": {
          "base_uri": "https://localhost:8080/",
          "height": 145
        },
        "outputId": "86bb01e3-4298-4fa9-e1cf-a49f094997e4"
      },
      "source": [
        "new['flair'].value_counts()"
      ],
      "execution_count": 44,
      "outputs": [
        {
          "output_type": "execute_result",
          "data": {
            "text/plain": [
              "Sports and food         473\n",
              "Political               247\n",
              "Finance & Business      233\n",
              "Science & Technology    221\n",
              "Policy & Economy        220\n",
              "Non-political           216\n",
              "Name: flair, dtype: int64"
            ]
          },
          "metadata": {
            "tags": []
          },
          "execution_count": 44
        }
      ]
    },
    {
      "cell_type": "code",
      "metadata": {
        "id": "ynqCqCNfi3gs",
        "colab_type": "code",
        "colab": {}
      },
      "source": [
        "df=pd.concat([data, new]).reset_index(drop=True)"
      ],
      "execution_count": 45,
      "outputs": []
    },
    {
      "cell_type": "code",
      "metadata": {
        "id": "9u2Ig1_-kLZA",
        "colab_type": "code",
        "colab": {}
      },
      "source": [
        "df.drop_duplicates(subset ='id', \n",
        "                     keep = 'first', inplace = True)"
      ],
      "execution_count": 46,
      "outputs": []
    },
    {
      "cell_type": "code",
      "metadata": {
        "id": "NX9t9UoA69WE",
        "colab_type": "code",
        "colab": {
          "base_uri": "https://localhost:8080/",
          "height": 859
        },
        "outputId": "afaac4e4-2b8c-4214-8ae7-8e78c85e32ac"
      },
      "source": [
        "df.reset_index(drop=True)"
      ],
      "execution_count": 47,
      "outputs": [
        {
          "output_type": "execute_result",
          "data": {
            "text/html": [
              "<div>\n",
              "<style scoped>\n",
              "    .dataframe tbody tr th:only-of-type {\n",
              "        vertical-align: middle;\n",
              "    }\n",
              "\n",
              "    .dataframe tbody tr th {\n",
              "        vertical-align: top;\n",
              "    }\n",
              "\n",
              "    .dataframe thead th {\n",
              "        text-align: right;\n",
              "    }\n",
              "</style>\n",
              "<table border=\"1\" class=\"dataframe\">\n",
              "  <thead>\n",
              "    <tr style=\"text-align: right;\">\n",
              "      <th></th>\n",
              "      <th>title</th>\n",
              "      <th>score</th>\n",
              "      <th>id</th>\n",
              "      <th>url</th>\n",
              "      <th>comms_num</th>\n",
              "      <th>body</th>\n",
              "      <th>flair</th>\n",
              "      <th>timestamp</th>\n",
              "    </tr>\n",
              "  </thead>\n",
              "  <tbody>\n",
              "    <tr>\n",
              "      <th>0</th>\n",
              "      <td>AP wins feature photography Pulitzer for Kashm...</td>\n",
              "      <td>50</td>\n",
              "      <td>gdjmlb</td>\n",
              "      <td>https://www.wfmj.com/story/42087148/ap-wins-fe...</td>\n",
              "      <td>0</td>\n",
              "      <td></td>\n",
              "      <td>Photography</td>\n",
              "      <td>2020-05-05 04:37:44</td>\n",
              "    </tr>\n",
              "    <tr>\n",
              "      <th>1</th>\n",
              "      <td>[OC] Just messing around with my camera two da...</td>\n",
              "      <td>10</td>\n",
              "      <td>fubt1o</td>\n",
              "      <td>https://imgur.com/SO8wJSn</td>\n",
              "      <td>3</td>\n",
              "      <td></td>\n",
              "      <td>Photography</td>\n",
              "      <td>2020-04-04 00:47:45</td>\n",
              "    </tr>\n",
              "    <tr>\n",
              "      <th>2</th>\n",
              "      <td>Looking for an analog/film photography camera</td>\n",
              "      <td>3</td>\n",
              "      <td>fjisys</td>\n",
              "      <td>https://www.reddit.com/r/india/comments/fjisys...</td>\n",
              "      <td>1</td>\n",
              "      <td>I am looking for a good film/analog camera for...</td>\n",
              "      <td>Photography</td>\n",
              "      <td>2020-03-16 18:24:42</td>\n",
              "    </tr>\n",
              "    <tr>\n",
              "      <th>3</th>\n",
              "      <td>Weekly photography thread thread - December 09...</td>\n",
              "      <td>17</td>\n",
              "      <td>e84big</td>\n",
              "      <td>https://www.reddit.com/r/india/comments/e84big...</td>\n",
              "      <td>11</td>\n",
              "      <td>This is a weekly scheduled thread for all the ...</td>\n",
              "      <td>Photography</td>\n",
              "      <td>2019-12-09 11:32:40</td>\n",
              "    </tr>\n",
              "    <tr>\n",
              "      <th>4</th>\n",
              "      <td>Anyone having a similar problem?</td>\n",
              "      <td>40</td>\n",
              "      <td>hbe1j4</td>\n",
              "      <td>https://www.reddit.com/r/india/comments/hbe1j4...</td>\n",
              "      <td>48</td>\n",
              "      <td>Hi redditors, \\nI am 29y (M) from a liberal mu...</td>\n",
              "      <td>Photography</td>\n",
              "      <td>2020-06-18 20:53:45</td>\n",
              "    </tr>\n",
              "    <tr>\n",
              "      <th>...</th>\n",
              "      <td>...</td>\n",
              "      <td>...</td>\n",
              "      <td>...</td>\n",
              "      <td>...</td>\n",
              "      <td>...</td>\n",
              "      <td>...</td>\n",
              "      <td>...</td>\n",
              "      <td>...</td>\n",
              "    </tr>\n",
              "    <tr>\n",
              "      <th>3022</th>\n",
              "      <td>AMA Announcement: Sanjeev Sabhlok from the Swa...</td>\n",
              "      <td>22</td>\n",
              "      <td>9mxnv9</td>\n",
              "      <td>https://www.reddit.com/r/india/comments/9mxnv9...</td>\n",
              "      <td>0</td>\n",
              "      <td>Hi /r/india, \\n\\nMr. Sanjeev Sabhlok, a former...</td>\n",
              "      <td>NaN</td>\n",
              "      <td>2018-10-10 16:32:18</td>\n",
              "    </tr>\n",
              "    <tr>\n",
              "      <th>3023</th>\n",
              "      <td>[NP] r/India, what's bothering you? I'm here t...</td>\n",
              "      <td>27</td>\n",
              "      <td>4rhdqd</td>\n",
              "      <td>https://www.reddit.com/r/india/comments/4rhdqd...</td>\n",
              "      <td>178</td>\n",
              "      <td>Let's hear it.</td>\n",
              "      <td>NaN</td>\n",
              "      <td>2016-07-06 15:35:35</td>\n",
              "    </tr>\n",
              "    <tr>\n",
              "      <th>3024</th>\n",
              "      <td>Hi r/India, I am Kumaran Mahalingam, a Geologi...</td>\n",
              "      <td>111</td>\n",
              "      <td>5szty8</td>\n",
              "      <td>https://www.reddit.com/r/india/comments/5szty8...</td>\n",
              "      <td>40</td>\n",
              "      <td>I'm a Geologist passionate about Standup-Paddl...</td>\n",
              "      <td>NaN</td>\n",
              "      <td>2017-02-09 20:58:51</td>\n",
              "    </tr>\n",
              "    <tr>\n",
              "      <th>3025</th>\n",
              "      <td>r/IndiaInvestments is having an AMA with Gaura...</td>\n",
              "      <td>17</td>\n",
              "      <td>8hy5eh</td>\n",
              "      <td>https://www.reddit.com/r/india/comments/8hy5eh...</td>\n",
              "      <td>6</td>\n",
              "      <td>https://np.reddit.com/r/IndiaInvestments/comme...</td>\n",
              "      <td>NaN</td>\n",
              "      <td>2018-05-09 00:40:36</td>\n",
              "    </tr>\n",
              "    <tr>\n",
              "      <th>3026</th>\n",
              "      <td>Hi r/India, I'm Nikhil Pahwa. AMA!</td>\n",
              "      <td>79</td>\n",
              "      <td>4vm9nk</td>\n",
              "      <td>https://www.reddit.com/r/india/comments/4vm9nk...</td>\n",
              "      <td>95</td>\n",
              "      <td>Hi, I'm Nikhil Pahwa, /u/atnixxin, and I compl...</td>\n",
              "      <td>NaN</td>\n",
              "      <td>2016-08-01 20:37:18</td>\n",
              "    </tr>\n",
              "  </tbody>\n",
              "</table>\n",
              "<p>3027 rows × 8 columns</p>\n",
              "</div>"
            ],
            "text/plain": [
              "                                                  title  ...           timestamp\n",
              "0     AP wins feature photography Pulitzer for Kashm...  ... 2020-05-05 04:37:44\n",
              "1     [OC] Just messing around with my camera two da...  ... 2020-04-04 00:47:45\n",
              "2         Looking for an analog/film photography camera  ... 2020-03-16 18:24:42\n",
              "3     Weekly photography thread thread - December 09...  ... 2019-12-09 11:32:40\n",
              "4                      Anyone having a similar problem?  ... 2020-06-18 20:53:45\n",
              "...                                                 ...  ...                 ...\n",
              "3022  AMA Announcement: Sanjeev Sabhlok from the Swa...  ... 2018-10-10 16:32:18\n",
              "3023  [NP] r/India, what's bothering you? I'm here t...  ... 2016-07-06 15:35:35\n",
              "3024  Hi r/India, I am Kumaran Mahalingam, a Geologi...  ... 2017-02-09 20:58:51\n",
              "3025  r/IndiaInvestments is having an AMA with Gaura...  ... 2018-05-09 00:40:36\n",
              "3026                 Hi r/India, I'm Nikhil Pahwa. AMA!  ... 2016-08-01 20:37:18\n",
              "\n",
              "[3027 rows x 8 columns]"
            ]
          },
          "metadata": {
            "tags": []
          },
          "execution_count": 47
        }
      ]
    },
    {
      "cell_type": "code",
      "metadata": {
        "id": "SGS7KQpLjann",
        "colab_type": "code",
        "colab": {
          "base_uri": "https://localhost:8080/",
          "height": 624
        },
        "outputId": "b8640ae5-29b0-40d7-cae2-f573520ed194"
      },
      "source": [
        "plot = df['flair'].value_counts().plot(kind='bar', figsize=(15,7), color=\"coral\", fontsize=14);\n",
        "plot.set_title(\"\\n Analyzing the variety of flairs in top posts over a year \\n\", fontsize=16)\n",
        "plot.set_ylabel(\"Number of posts\", fontsize=14);\n",
        "\n",
        "# Find the values and their sum\n",
        "totals = []\n",
        "for i in plot.patches:\n",
        "    totals.append(i.get_height())\n",
        "total = np.sum(totals)\n",
        "\n",
        "# Set individual bar lables using above list\n",
        "for i in plot.patches:\n",
        "    # get_x pulls left or right; get_height pushes up or down\n",
        "    plot.text(i.get_x()-0.05, i.get_height()+ 2, str(round((i.get_height()/total)*100, 2))+'%', fontsize=14)"
      ],
      "execution_count": 48,
      "outputs": [
        {
          "output_type": "display_data",
          "data": {
            "image/png": "[encoded data removed]",
            "text/plain": [
              "<Figure size 1080x504 with 1 Axes>"
            ]
          },
          "metadata": {
            "tags": [],
            "needs_background": "light"
          }
        }
      ]
    },
    {
      "cell_type": "code",
      "metadata": {
        "id": "z46jUFkMlHza",
        "colab_type": "code",
        "colab": {
          "base_uri": "https://localhost:8080/",
          "height": 288
        },
        "outputId": "301438cb-7b59-4eb6-fe81-e6eb320cf4d3"
      },
      "source": [
        "df.describe()"
      ],
      "execution_count": 49,
      "outputs": [
        {
          "output_type": "execute_result",
          "data": {
            "text/html": [
              "<div>\n",
              "<style scoped>\n",
              "    .dataframe tbody tr th:only-of-type {\n",
              "        vertical-align: middle;\n",
              "    }\n",
              "\n",
              "    .dataframe tbody tr th {\n",
              "        vertical-align: top;\n",
              "    }\n",
              "\n",
              "    .dataframe thead th {\n",
              "        text-align: right;\n",
              "    }\n",
              "</style>\n",
              "<table border=\"1\" class=\"dataframe\">\n",
              "  <thead>\n",
              "    <tr style=\"text-align: right;\">\n",
              "      <th></th>\n",
              "      <th>score</th>\n",
              "      <th>comms_num</th>\n",
              "    </tr>\n",
              "  </thead>\n",
              "  <tbody>\n",
              "    <tr>\n",
              "      <th>count</th>\n",
              "      <td>3027.000000</td>\n",
              "      <td>3027.000000</td>\n",
              "    </tr>\n",
              "    <tr>\n",
              "      <th>mean</th>\n",
              "      <td>143.017509</td>\n",
              "      <td>65.378262</td>\n",
              "    </tr>\n",
              "    <tr>\n",
              "      <th>std</th>\n",
              "      <td>541.601630</td>\n",
              "      <td>442.937256</td>\n",
              "    </tr>\n",
              "    <tr>\n",
              "      <th>min</th>\n",
              "      <td>0.000000</td>\n",
              "      <td>0.000000</td>\n",
              "    </tr>\n",
              "    <tr>\n",
              "      <th>25%</th>\n",
              "      <td>9.000000</td>\n",
              "      <td>4.000000</td>\n",
              "    </tr>\n",
              "    <tr>\n",
              "      <th>50%</th>\n",
              "      <td>28.000000</td>\n",
              "      <td>13.000000</td>\n",
              "    </tr>\n",
              "    <tr>\n",
              "      <th>75%</th>\n",
              "      <td>104.000000</td>\n",
              "      <td>45.000000</td>\n",
              "    </tr>\n",
              "    <tr>\n",
              "      <th>max</th>\n",
              "      <td>18432.000000</td>\n",
              "      <td>10960.000000</td>\n",
              "    </tr>\n",
              "  </tbody>\n",
              "</table>\n",
              "</div>"
            ],
            "text/plain": [
              "              score     comms_num\n",
              "count   3027.000000   3027.000000\n",
              "mean     143.017509     65.378262\n",
              "std      541.601630    442.937256\n",
              "min        0.000000      0.000000\n",
              "25%        9.000000      4.000000\n",
              "50%       28.000000     13.000000\n",
              "75%      104.000000     45.000000\n",
              "max    18432.000000  10960.000000"
            ]
          },
          "metadata": {
            "tags": []
          },
          "execution_count": 49
        }
      ]
    },
    {
      "cell_type": "code",
      "metadata": {
        "id": "f7MFBRKrlJMT",
        "colab_type": "code",
        "colab": {}
      },
      "source": [
        "df.to_csv('dataset.csv',index=False)"
      ],
      "execution_count": 50,
      "outputs": []
    },
    {
      "cell_type": "code",
      "metadata": {
        "id": "EeRLh4UxuubI",
        "colab_type": "code",
        "colab": {}
      },
      "source": [
        ""
      ],
      "execution_count": 25,
      "outputs": []
    }
  ]
}