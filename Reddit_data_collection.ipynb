{
  "nbformat": 4,
  "nbformat_minor": 0,
  "metadata": {
    "colab": {
      "name": "Reddit_data_collection",
      "provenance": []
    },
    "kernelspec": {
      "name": "python3",
      "display_name": "Python 3"
    }
  },
  "cells": [
    {
      "cell_type": "code",
      "metadata": {
        "id": "cXRTdEm6qCqx",
        "colab_type": "code",
        "colab": {
          "base_uri": "https://localhost:8080/",
          "height": 219
        },
        "outputId": "f9b1071e-09c0-466f-a3d0-c344571c1298"
      },
      "source": [
        "pip install praw"
      ],
      "execution_count": 1,
      "outputs": [
        {
          "output_type": "stream",
          "text": [
            "Requirement already satisfied: praw in /usr/local/lib/python3.6/dist-packages (7.1.0)\n",
            "Requirement already satisfied: update-checker>=0.17 in /usr/local/lib/python3.6/dist-packages (from praw) (0.17)\n",
            "Requirement already satisfied: websocket-client>=0.54.0 in /usr/local/lib/python3.6/dist-packages (from praw) (0.57.0)\n",
            "Requirement already satisfied: prawcore<2.0,>=1.3.0 in /usr/local/lib/python3.6/dist-packages (from praw) (1.4.0)\n",
            "Requirement already satisfied: requests>=2.3.0 in /usr/local/lib/python3.6/dist-packages (from update-checker>=0.17->praw) (2.23.0)\n",
            "Requirement already satisfied: six in /usr/local/lib/python3.6/dist-packages (from websocket-client>=0.54.0->praw) (1.12.0)\n",
            "Requirement already satisfied: urllib3!=1.25.0,!=1.25.1,<1.26,>=1.21.1 in /usr/local/lib/python3.6/dist-packages (from requests>=2.3.0->update-checker>=0.17->praw) (1.24.3)\n",
            "Requirement already satisfied: chardet<4,>=3.0.2 in /usr/local/lib/python3.6/dist-packages (from requests>=2.3.0->update-checker>=0.17->praw) (3.0.4)\n",
            "Requirement already satisfied: idna<3,>=2.5 in /usr/local/lib/python3.6/dist-packages (from requests>=2.3.0->update-checker>=0.17->praw) (2.9)\n",
            "Requirement already satisfied: certifi>=2017.4.17 in /usr/local/lib/python3.6/dist-packages (from requests>=2.3.0->update-checker>=0.17->praw) (2020.6.20)\n"
          ],
          "name": "stdout"
        }
      ]
    },
    {
      "cell_type": "code",
      "metadata": {
        "id": "DjYVVHm9ppr5",
        "colab_type": "code",
        "colab": {}
      },
      "source": [
        "import praw\n",
        "import pandas as pd\n",
        "import numpy as np\n",
        "import datetime as dt\n",
        "import matplotlib.pyplot as plt"
      ],
      "execution_count": 2,
      "outputs": []
    },
    {
      "cell_type": "code",
      "metadata": {
        "id": "EV0pzq1vqGkv",
        "colab_type": "code",
        "colab": {}
      },
      "source": [
        "reddit = praw.Reddit(client_id='QHdGeZaYJfEzVQ', client_secret='wB-rAU3ZPOTZylLxUQas-QBszyk', user_agent='somya')\n",
        "subreddit = reddit.subreddit('india')"
      ],
      "execution_count": 3,
      "outputs": []
    },
    {
      "cell_type": "code",
      "metadata": {
        "id": "73EV9hWE0fAH",
        "colab_type": "code",
        "colab": {}
      },
      "source": [
        "flair_dict={'Political','Non-political','Reddiquette','AskIndia','Science & Technology','Policy & Economy','Finance & Business','Sports and food','Photography','AMA'}"
      ],
      "execution_count": 4,
      "outputs": []
    },
    {
      "cell_type": "code",
      "metadata": {
        "id": "NYwXgILb-bv2",
        "colab_type": "code",
        "colab": {}
      },
      "source": [
        "# Function to convert timestamp to datetime\n",
        "def get_date(created):\n",
        "    return dt.datetime.fromtimestamp(created)"
      ],
      "execution_count": 5,
      "outputs": []
    },
    {
      "cell_type": "code",
      "metadata": {
        "id": "dZCLJOL09Qbj",
        "colab_type": "code",
        "colab": {
          "base_uri": "https://localhost:8080/",
          "height": 35
        },
        "outputId": "7a580d2b-879e-4880-d5bf-2ed717f3ef8d"
      },
      "source": [
        "topics_dict = { \"title\":[],\"score\":[],\"id\":[],\"url\":[],\"comms_num\": [],\"created\": [],\"body\":[],\"flair\":[]}\n",
        "for flair in flair_dict:\n",
        "    for submission in subreddit.search(flair,limit=1000):\n",
        "        topics_dict[\"title\"].append(submission.title)\n",
        "        topics_dict[\"score\"].append(submission.score)\n",
        "        topics_dict[\"id\"].append(submission.id)\n",
        "        topics_dict[\"url\"].append(submission.url)\n",
        "        topics_dict[\"comms_num\"].append(submission.num_comments)\n",
        "        topics_dict[\"created\"].append(submission.created)\n",
        "        topics_dict[\"body\"].append(submission.selftext)\n",
        "        topics_dict[\"flair\"].append(flair)\n",
        "\n",
        "data = pd.DataFrame(topics_dict)\n",
        "len(data['title'])"
      ],
      "execution_count": 6,
      "outputs": [
        {
          "output_type": "execute_result",
          "data": {
            "text/plain": [
              "1963"
            ]
          },
          "metadata": {
            "tags": []
          },
          "execution_count": 6
        }
      ]
    },
    {
      "cell_type": "code",
      "metadata": {
        "id": "_qzamLZi-fZE",
        "colab_type": "code",
        "colab": {
          "base_uri": "https://localhost:8080/",
          "height": 938
        },
        "outputId": "9b2bdf17-bfad-4470-c436-98cfa33c1e11"
      },
      "source": [
        "data.tail(10)"
      ],
      "execution_count": 7,
      "outputs": [
        {
          "output_type": "execute_result",
          "data": {
            "text/html": [
              "<div>\n",
              "<style scoped>\n",
              "    .dataframe tbody tr th:only-of-type {\n",
              "        vertical-align: middle;\n",
              "    }\n",
              "\n",
              "    .dataframe tbody tr th {\n",
              "        vertical-align: top;\n",
              "    }\n",
              "\n",
              "    .dataframe thead th {\n",
              "        text-align: right;\n",
              "    }\n",
              "</style>\n",
              "<table border=\"1\" class=\"dataframe\">\n",
              "  <thead>\n",
              "    <tr style=\"text-align: right;\">\n",
              "      <th></th>\n",
              "      <th>title</th>\n",
              "      <th>score</th>\n",
              "      <th>id</th>\n",
              "      <th>url</th>\n",
              "      <th>comms_num</th>\n",
              "      <th>created</th>\n",
              "      <th>body</th>\n",
              "      <th>flair</th>\n",
              "    </tr>\n",
              "  </thead>\n",
              "  <tbody>\n",
              "    <tr>\n",
              "      <th>1953</th>\n",
              "      <td>Mega Discussion thread: Demands for Grants 201...</td>\n",
              "      <td>42</td>\n",
              "      <td>333ipd</td>\n",
              "      <td>https://www.reddit.com/r/india/comments/333ipd...</td>\n",
              "      <td>17</td>\n",
              "      <td>1.429446e+09</td>\n",
              "      <td>Hello /r/india,\\n\\nI thought it would be an in...</td>\n",
              "      <td>Policy &amp; Economy</td>\n",
              "    </tr>\n",
              "    <tr>\n",
              "      <th>1954</th>\n",
              "      <td>India Security News Weekly: Edition 4 - June 03</td>\n",
              "      <td>26</td>\n",
              "      <td>6f2il1</td>\n",
              "      <td>https://www.reddit.com/r/india/comments/6f2il1...</td>\n",
              "      <td>2</td>\n",
              "      <td>1.496541e+09</td>\n",
              "      <td>Security Underflow (and this newsletter) is an...</td>\n",
              "      <td>Policy &amp; Economy</td>\n",
              "    </tr>\n",
              "    <tr>\n",
              "      <th>1955</th>\n",
              "      <td>A possible reason why India is yet to achieve ...</td>\n",
              "      <td>20</td>\n",
              "      <td>5bsjf0</td>\n",
              "      <td>https://www.reddit.com/r/india/comments/5bsjf0...</td>\n",
              "      <td>5</td>\n",
              "      <td>1.478631e+09</td>\n",
              "      <td>Any stable form of government distributes its ...</td>\n",
              "      <td>Policy &amp; Economy</td>\n",
              "    </tr>\n",
              "    <tr>\n",
              "      <th>1956</th>\n",
              "      <td>Nehru! Why do you like / dislike / hate / love...</td>\n",
              "      <td>11</td>\n",
              "      <td>2kh7n5</td>\n",
              "      <td>https://www.reddit.com/r/india/comments/2kh7n5...</td>\n",
              "      <td>46</td>\n",
              "      <td>1.414457e+09</td>\n",
              "      <td>Thanks /u/parlor_tricks, our conversation trig...</td>\n",
              "      <td>Policy &amp; Economy</td>\n",
              "    </tr>\n",
              "    <tr>\n",
              "      <th>1957</th>\n",
              "      <td>Whats wrong with Economic Times?</td>\n",
              "      <td>24</td>\n",
              "      <td>6ze0dd</td>\n",
              "      <td>https://www.reddit.com/r/india/comments/6ze0dd...</td>\n",
              "      <td>1</td>\n",
              "      <td>1.505145e+09</td>\n",
              "      <td>Lately, I have been noticing that all the good...</td>\n",
              "      <td>Policy &amp; Economy</td>\n",
              "    </tr>\n",
              "    <tr>\n",
              "      <th>1958</th>\n",
              "      <td>The curious case of the rotting grains: an att...</td>\n",
              "      <td>127</td>\n",
              "      <td>t8q12</td>\n",
              "      <td>https://www.reddit.com/r/india/comments/t8q12/...</td>\n",
              "      <td>37</td>\n",
              "      <td>1.336276e+09</td>\n",
              "      <td>Hey r/india. The [recent post on the rotting g...</td>\n",
              "      <td>Policy &amp; Economy</td>\n",
              "    </tr>\n",
              "    <tr>\n",
              "      <th>1959</th>\n",
              "      <td>Lets support Demonetization for a moment.</td>\n",
              "      <td>0</td>\n",
              "      <td>5kci5l</td>\n",
              "      <td>https://www.reddit.com/r/india/comments/5kci5l...</td>\n",
              "      <td>14</td>\n",
              "      <td>1.482763e+09</td>\n",
              "      <td>i have seen country burned many times... this ...</td>\n",
              "      <td>Policy &amp; Economy</td>\n",
              "    </tr>\n",
              "    <tr>\n",
              "      <th>1960</th>\n",
              "      <td>New amnesty scheme levies 31% effective tax, C...</td>\n",
              "      <td>9</td>\n",
              "      <td>4ugg4o</td>\n",
              "      <td>https://www.reddit.com/r/india/comments/4ugg4o...</td>\n",
              "      <td>8</td>\n",
              "      <td>1.469444e+09</td>\n",
              "      <td>It's not 45% silly.. It's 31%.. Plus bonus is ...</td>\n",
              "      <td>Policy &amp; Economy</td>\n",
              "    </tr>\n",
              "    <tr>\n",
              "      <th>1961</th>\n",
              "      <td>How would Arvind Kejriwal the PM would handle ...</td>\n",
              "      <td>0</td>\n",
              "      <td>406jpm</td>\n",
              "      <td>https://www.reddit.com/r/india/comments/406jpm...</td>\n",
              "      <td>34</td>\n",
              "      <td>1.452380e+09</td>\n",
              "      <td>It is a common feeling amongst even BJP suppor...</td>\n",
              "      <td>Policy &amp; Economy</td>\n",
              "    </tr>\n",
              "    <tr>\n",
              "      <th>1962</th>\n",
              "      <td>[FoodForThough]the Brexit shows why India real...</td>\n",
              "      <td>1</td>\n",
              "      <td>4q7svu</td>\n",
              "      <td>https://www.reddit.com/r/india/comments/4q7svu...</td>\n",
              "      <td>21</td>\n",
              "      <td>1.467120e+09</td>\n",
              "      <td>When youre sick you go to a doctor for help, t...</td>\n",
              "      <td>Policy &amp; Economy</td>\n",
              "    </tr>\n",
              "  </tbody>\n",
              "</table>\n",
              "</div>"
            ],
            "text/plain": [
              "                                                  title  ...             flair\n",
              "1953  Mega Discussion thread: Demands for Grants 201...  ...  Policy & Economy\n",
              "1954    India Security News Weekly: Edition 4 - June 03  ...  Policy & Economy\n",
              "1955  A possible reason why India is yet to achieve ...  ...  Policy & Economy\n",
              "1956  Nehru! Why do you like / dislike / hate / love...  ...  Policy & Economy\n",
              "1957                   Whats wrong with Economic Times?  ...  Policy & Economy\n",
              "1958  The curious case of the rotting grains: an att...  ...  Policy & Economy\n",
              "1959          Lets support Demonetization for a moment.  ...  Policy & Economy\n",
              "1960  New amnesty scheme levies 31% effective tax, C...  ...  Policy & Economy\n",
              "1961  How would Arvind Kejriwal the PM would handle ...  ...  Policy & Economy\n",
              "1962  [FoodForThough]the Brexit shows why India real...  ...  Policy & Economy\n",
              "\n",
              "[10 rows x 8 columns]"
            ]
          },
          "metadata": {
            "tags": []
          },
          "execution_count": 7
        }
      ]
    },
    {
      "cell_type": "code",
      "metadata": {
        "id": "GUFaP6yg9-GA",
        "colab_type": "code",
        "colab": {}
      },
      "source": [
        "# Converting timestamp to datetime format\n",
        "_timestamp = data[\"created\"].apply(get_date)\n",
        "data = data.assign(timestamp = _timestamp)\n",
        "del data['created']"
      ],
      "execution_count": 8,
      "outputs": []
    },
    {
      "cell_type": "code",
      "metadata": {
        "id": "Tilbrn7g1TAI",
        "colab_type": "code",
        "colab": {
          "base_uri": "https://localhost:8080/",
          "height": 568
        },
        "outputId": "defd900c-c7af-4496-ca16-b13c457ee331"
      },
      "source": [
        "plot = data['flair'].value_counts().plot(kind='bar', figsize=(15,7), color=\"coral\", fontsize=14);\n",
        "plot.set_title(\"\\n Analyzing the variety of flairs in top posts over a year \\n\", fontsize=16)\n",
        "plot.set_ylabel(\"Number of posts\", fontsize=14);\n",
        "\n",
        "# Find the values and their sum\n",
        "totals = []\n",
        "for i in plot.patches:\n",
        "    totals.append(i.get_height())\n",
        "total = np.sum(totals)\n",
        "\n",
        "# Set individual bar lables using above list\n",
        "for i in plot.patches:\n",
        "    # get_x pulls left or right; get_height pushes up or down\n",
        "    plot.text(i.get_x()-0.05, i.get_height()+ 2, str(round((i.get_height()/total)*100, 2))+'%', fontsize=14)"
      ],
      "execution_count": 9,
      "outputs": [
        {
          "output_type": "display_data",
          "data": {
            "image/png": "[encoded data removed]",
            "text/plain": [
              "<Figure size 1080x504 with 1 Axes>"
            ]
          },
          "metadata": {
            "tags": [],
            "needs_background": "light"
          }
        }
      ]
    },
    {
      "cell_type": "code",
      "metadata": {
        "id": "a8kFOV_7_Bah",
        "colab_type": "code",
        "colab": {
          "base_uri": "https://localhost:8080/",
          "height": 825
        },
        "outputId": "dbb51c2d-e6de-469e-9d23-d39cdade5476"
      },
      "source": [
        "new=pd.read_csv('/content/drive/My Drive/reddit_data.csv')\n",
        "new"
      ],
      "execution_count": 10,
      "outputs": [
        {
          "output_type": "execute_result",
          "data": {
            "text/html": [
              "<div>\n",
              "<style scoped>\n",
              "    .dataframe tbody tr th:only-of-type {\n",
              "        vertical-align: middle;\n",
              "    }\n",
              "\n",
              "    .dataframe tbody tr th {\n",
              "        vertical-align: top;\n",
              "    }\n",
              "\n",
              "    .dataframe thead th {\n",
              "        text-align: right;\n",
              "    }\n",
              "</style>\n",
              "<table border=\"1\" class=\"dataframe\">\n",
              "  <thead>\n",
              "    <tr style=\"text-align: right;\">\n",
              "      <th></th>\n",
              "      <th>Unnamed: 0</th>\n",
              "      <th>title</th>\n",
              "      <th>score</th>\n",
              "      <th>id</th>\n",
              "      <th>subreddit</th>\n",
              "      <th>url</th>\n",
              "      <th>num_comments</th>\n",
              "      <th>body</th>\n",
              "      <th>created</th>\n",
              "      <th>flair</th>\n",
              "    </tr>\n",
              "  </thead>\n",
              "  <tbody>\n",
              "    <tr>\n",
              "      <th>0</th>\n",
              "      <td>0</td>\n",
              "      <td>Attractive men, what type of attention do you ...</td>\n",
              "      <td>20</td>\n",
              "      <td>cprtaa</td>\n",
              "      <td>india</td>\n",
              "      <td>https://www.reddit.com/r/india/comments/cprtaa...</td>\n",
              "      <td>21</td>\n",
              "      <td>xposted from /r/askmen, posted here because In...</td>\n",
              "      <td>1.565725e+09</td>\n",
              "      <td>AskIndia</td>\n",
              "    </tr>\n",
              "    <tr>\n",
              "      <th>1</th>\n",
              "      <td>1</td>\n",
              "      <td>[askindia] My brothers bank account was hacked...</td>\n",
              "      <td>42</td>\n",
              "      <td>dacmel</td>\n",
              "      <td>india</td>\n",
              "      <td>https://www.reddit.com/r/india/comments/dacmel...</td>\n",
              "      <td>64</td>\n",
              "      <td>My brother received bunch of SMS this morning ...</td>\n",
              "      <td>1.569682e+09</td>\n",
              "      <td>AskIndia</td>\n",
              "    </tr>\n",
              "    <tr>\n",
              "      <th>2</th>\n",
              "      <td>2</td>\n",
              "      <td>[AskIndia] What song is this ?</td>\n",
              "      <td>5</td>\n",
              "      <td>comakt</td>\n",
              "      <td>india</td>\n",
              "      <td>https://www.reddit.com/r/india/comments/comakt...</td>\n",
              "      <td>6</td>\n",
              "      <td>Often when I think of home there is a particul...</td>\n",
              "      <td>1.565493e+09</td>\n",
              "      <td>AskIndia</td>\n",
              "    </tr>\n",
              "    <tr>\n",
              "      <th>3</th>\n",
              "      <td>3</td>\n",
              "      <td>[AskIndia][Serious] Is it worth attempting imm...</td>\n",
              "      <td>55</td>\n",
              "      <td>c4ilk5</td>\n",
              "      <td>india</td>\n",
              "      <td>https://www.reddit.com/r/india/comments/c4ilk5...</td>\n",
              "      <td>115</td>\n",
              "      <td>Title. \\n\\nFrom what I understand based on arm...</td>\n",
              "      <td>1.561382e+09</td>\n",
              "      <td>AskIndia</td>\n",
              "    </tr>\n",
              "    <tr>\n",
              "      <th>4</th>\n",
              "      <td>4</td>\n",
              "      <td>[AskIndia] What are some cheap but reliable an...</td>\n",
              "      <td>21</td>\n",
              "      <td>dpmgmj</td>\n",
              "      <td>india</td>\n",
              "      <td>https://www.reddit.com/r/india/comments/dpmgmj...</td>\n",
              "      <td>25</td>\n",
              "      <td>I won't play games or edit videos.\\n\\nI will u...</td>\n",
              "      <td>1.572552e+09</td>\n",
              "      <td>AskIndia</td>\n",
              "    </tr>\n",
              "    <tr>\n",
              "      <th>...</th>\n",
              "      <td>...</td>\n",
              "      <td>...</td>\n",
              "      <td>...</td>\n",
              "      <td>...</td>\n",
              "      <td>...</td>\n",
              "      <td>...</td>\n",
              "      <td>...</td>\n",
              "      <td>...</td>\n",
              "      <td>...</td>\n",
              "      <td>...</td>\n",
              "    </tr>\n",
              "    <tr>\n",
              "      <th>2505</th>\n",
              "      <td>2505</td>\n",
              "      <td>MASAAN director Neeraj Ghaywan here. I'm here ...</td>\n",
              "      <td>207</td>\n",
              "      <td>3f10la</td>\n",
              "      <td>india</td>\n",
              "      <td>https://www.reddit.com/r/india/comments/3f10la...</td>\n",
              "      <td>198</td>\n",
              "      <td>Thank you for taking time out guys. I *really*...</td>\n",
              "      <td>1.438207e+09</td>\n",
              "      <td>AMA</td>\n",
              "    </tr>\n",
              "    <tr>\n",
              "      <th>2506</th>\n",
              "      <td>2506</td>\n",
              "      <td>[AMAA] I just got scammed out of Rs 51,000 AMA!</td>\n",
              "      <td>186</td>\n",
              "      <td>2kvbea</td>\n",
              "      <td>india</td>\n",
              "      <td>https://www.reddit.com/r/india/comments/2kvbea...</td>\n",
              "      <td>338</td>\n",
              "      <td>Like I said, I thought I was paying Rs 50k (ad...</td>\n",
              "      <td>1.414776e+09</td>\n",
              "      <td>AMA</td>\n",
              "    </tr>\n",
              "    <tr>\n",
              "      <th>2507</th>\n",
              "      <td>2507</td>\n",
              "      <td>r/IndiaInvestments is having an AMA with Gaura...</td>\n",
              "      <td>17</td>\n",
              "      <td>8hy5eh</td>\n",
              "      <td>india</td>\n",
              "      <td>https://www.reddit.com/r/india/comments/8hy5eh...</td>\n",
              "      <td>6</td>\n",
              "      <td>https://np.reddit.com/r/IndiaInvestments/comme...</td>\n",
              "      <td>1.525826e+09</td>\n",
              "      <td>AMA</td>\n",
              "    </tr>\n",
              "    <tr>\n",
              "      <th>2508</th>\n",
              "      <td>2508</td>\n",
              "      <td>Hi r/India, I'm Nikhil Pahwa. AMA!</td>\n",
              "      <td>79</td>\n",
              "      <td>4vm9nk</td>\n",
              "      <td>india</td>\n",
              "      <td>https://www.reddit.com/r/india/comments/4vm9nk...</td>\n",
              "      <td>95</td>\n",
              "      <td>Hi, I'm Nikhil Pahwa, /u/atnixxin, and I compl...</td>\n",
              "      <td>1.470084e+09</td>\n",
              "      <td>AMA</td>\n",
              "    </tr>\n",
              "    <tr>\n",
              "      <th>2509</th>\n",
              "      <td>2509</td>\n",
              "      <td>I am an ex-\"christian convert\" who spent 20 ye...</td>\n",
              "      <td>120</td>\n",
              "      <td>2m1dfu</td>\n",
              "      <td>india</td>\n",
              "      <td>https://www.reddit.com/r/india/comments/2m1dfu...</td>\n",
              "      <td>396</td>\n",
              "      <td>I converted to Christianity on my own accord d...</td>\n",
              "      <td>1.415792e+09</td>\n",
              "      <td>AMA</td>\n",
              "    </tr>\n",
              "  </tbody>\n",
              "</table>\n",
              "<p>2510 rows × 10 columns</p>\n",
              "</div>"
            ],
            "text/plain": [
              "      Unnamed: 0  ...     flair\n",
              "0              0  ...  AskIndia\n",
              "1              1  ...  AskIndia\n",
              "2              2  ...  AskIndia\n",
              "3              3  ...  AskIndia\n",
              "4              4  ...  AskIndia\n",
              "...          ...  ...       ...\n",
              "2505        2505  ...       AMA\n",
              "2506        2506  ...       AMA\n",
              "2507        2507  ...       AMA\n",
              "2508        2508  ...       AMA\n",
              "2509        2509  ...       AMA\n",
              "\n",
              "[2510 rows x 10 columns]"
            ]
          },
          "metadata": {
            "tags": []
          },
          "execution_count": 10
        }
      ]
    },
    {
      "cell_type": "code",
      "metadata": {
        "id": "wUDlWtALf0gI",
        "colab_type": "code",
        "colab": {}
      },
      "source": [
        "# Function to convert timestamp to datetime\n",
        "def get_date(created):\n",
        "    return dt.datetime.fromtimestamp(created)\n",
        "# Converting timestamp to datetime format\n",
        "_timestamp = new[\"created\"].apply(get_date)\n",
        "new = new.assign(timestamp = _timestamp)\n",
        "del new['created']"
      ],
      "execution_count": 11,
      "outputs": []
    },
    {
      "cell_type": "code",
      "metadata": {
        "id": "E-SjVM9UgOp0",
        "colab_type": "code",
        "colab": {}
      },
      "source": [
        "new=new.rename(columns={'num_comments': 'comms_num'})"
      ],
      "execution_count": 12,
      "outputs": []
    },
    {
      "cell_type": "code",
      "metadata": {
        "id": "oTJWIHGYgn40",
        "colab_type": "code",
        "colab": {}
      },
      "source": [
        "new.drop(['subreddit','Unnamed: 0'],axis=1, inplace=True)"
      ],
      "execution_count": 13,
      "outputs": []
    },
    {
      "cell_type": "code",
      "metadata": {
        "id": "HduEbreegvDx",
        "colab_type": "code",
        "colab": {}
      },
      "source": [
        "dictionary={'Politics' : 'Political','Non-Political': 'Non-political','Reddiquette': 'Reddiquette','AskIndia': 'AskIndia','Science/Technology': 'Science & Technology','Policy/Economy' : 'Policy & Economy','Business/Finance': 'Finance & Business','Sports': 'Sports and food', 'Food': 'Sports and food', 'Photography': 'Photography', 'AMA': 'AMA'}"
      ],
      "execution_count": 14,
      "outputs": []
    },
    {
      "cell_type": "code",
      "metadata": {
        "id": "pbkIb2PKhK5F",
        "colab_type": "code",
        "colab": {}
      },
      "source": [
        "new['flair']=new['flair'].map(dictionary)"
      ],
      "execution_count": 15,
      "outputs": []
    },
    {
      "cell_type": "code",
      "metadata": {
        "id": "ERKvX9u1hSa0",
        "colab_type": "code",
        "colab": {
          "base_uri": "https://localhost:8080/",
          "height": 35
        },
        "outputId": "4fa516e3-95c1-4624-c75a-ca9b091dab69"
      },
      "source": [
        "new['flair'].isnull().sum()"
      ],
      "execution_count": 16,
      "outputs": [
        {
          "output_type": "execute_result",
          "data": {
            "text/plain": [
              "234"
            ]
          },
          "metadata": {
            "tags": []
          },
          "execution_count": 16
        }
      ]
    },
    {
      "cell_type": "code",
      "metadata": {
        "id": "ynqCqCNfi3gs",
        "colab_type": "code",
        "colab": {}
      },
      "source": [
        "df=pd.concat([data, new]).reset_index(drop=True)"
      ],
      "execution_count": 17,
      "outputs": []
    },
    {
      "cell_type": "code",
      "metadata": {
        "id": "9u2Ig1_-kLZA",
        "colab_type": "code",
        "colab": {}
      },
      "source": [
        "df.drop_duplicates(subset ='id', \n",
        "                     keep = 'first', inplace = True)"
      ],
      "execution_count": 18,
      "outputs": []
    },
    {
      "cell_type": "code",
      "metadata": {
        "id": "h5Wjz0fwHhzj",
        "colab_type": "code",
        "colab": {
          "base_uri": "https://localhost:8080/",
          "height": 35
        },
        "outputId": "d0705adb-9b70-42ef-964b-bdf1a63ecff2"
      },
      "source": [
        "df['flair'].isnull().sum()"
      ],
      "execution_count": 19,
      "outputs": [
        {
          "output_type": "execute_result",
          "data": {
            "text/plain": [
              "216"
            ]
          },
          "metadata": {
            "tags": []
          },
          "execution_count": 19
        }
      ]
    },
    {
      "cell_type": "code",
      "metadata": {
        "id": "mMZm5N4cHo0e",
        "colab_type": "code",
        "colab": {}
      },
      "source": [
        "df.dropna(subset=['flair'], inplace=True)"
      ],
      "execution_count": 20,
      "outputs": []
    },
    {
      "cell_type": "code",
      "metadata": {
        "id": "Yc0MqdoJIaq1",
        "colab_type": "code",
        "colab": {
          "base_uri": "https://localhost:8080/",
          "height": 35
        },
        "outputId": "057887a5-31ff-4a35-8626-1dabbf8663bd"
      },
      "source": [
        "df['flair'].isnull().sum()"
      ],
      "execution_count": 21,
      "outputs": [
        {
          "output_type": "execute_result",
          "data": {
            "text/plain": [
              "0"
            ]
          },
          "metadata": {
            "tags": []
          },
          "execution_count": 21
        }
      ]
    },
    {
      "cell_type": "code",
      "metadata": {
        "id": "NX9t9UoA69WE",
        "colab_type": "code",
        "colab": {
          "base_uri": "https://localhost:8080/",
          "height": 876
        },
        "outputId": "45a0ecd9-d58d-41eb-c412-541aa2e25081"
      },
      "source": [
        "df.reset_index(drop=True)"
      ],
      "execution_count": 22,
      "outputs": [
        {
          "output_type": "execute_result",
          "data": {
            "text/html": [
              "<div>\n",
              "<style scoped>\n",
              "    .dataframe tbody tr th:only-of-type {\n",
              "        vertical-align: middle;\n",
              "    }\n",
              "\n",
              "    .dataframe tbody tr th {\n",
              "        vertical-align: top;\n",
              "    }\n",
              "\n",
              "    .dataframe thead th {\n",
              "        text-align: right;\n",
              "    }\n",
              "</style>\n",
              "<table border=\"1\" class=\"dataframe\">\n",
              "  <thead>\n",
              "    <tr style=\"text-align: right;\">\n",
              "      <th></th>\n",
              "      <th>title</th>\n",
              "      <th>score</th>\n",
              "      <th>id</th>\n",
              "      <th>url</th>\n",
              "      <th>comms_num</th>\n",
              "      <th>body</th>\n",
              "      <th>flair</th>\n",
              "      <th>timestamp</th>\n",
              "    </tr>\n",
              "  </thead>\n",
              "  <tbody>\n",
              "    <tr>\n",
              "      <th>0</th>\n",
              "      <td>Covid 19 - Parliamentary Standing Committee on...</td>\n",
              "      <td>4</td>\n",
              "      <td>fyad3a</td>\n",
              "      <td>https://www.reddit.com/r/india/comments/fyad3a...</td>\n",
              "      <td>0</td>\n",
              "      <td>The Parliamentary Standing Committee on Scienc...</td>\n",
              "      <td>Science &amp; Technology</td>\n",
              "      <td>2020-04-10 14:48:16</td>\n",
              "    </tr>\n",
              "    <tr>\n",
              "      <th>1</th>\n",
              "      <td>[NP]FIITJEE - An institute that is supposed to...</td>\n",
              "      <td>251</td>\n",
              "      <td>7h8luq</td>\n",
              "      <td>https://i.redd.it/cex76h7a2o101.jpg</td>\n",
              "      <td>61</td>\n",
              "      <td></td>\n",
              "      <td>Science &amp; Technology</td>\n",
              "      <td>2017-12-03 16:19:29</td>\n",
              "    </tr>\n",
              "    <tr>\n",
              "      <th>2</th>\n",
              "      <td>What are the websites that cover science &amp; tec...</td>\n",
              "      <td>20</td>\n",
              "      <td>5vouxk</td>\n",
              "      <td>https://www.reddit.com/r/india/comments/5vouxk...</td>\n",
              "      <td>16</td>\n",
              "      <td>Like verge.com, wired.com etc.</td>\n",
              "      <td>Science &amp; Technology</td>\n",
              "      <td>2017-02-23 14:27:51</td>\n",
              "    </tr>\n",
              "    <tr>\n",
              "      <th>3</th>\n",
              "      <td>[Science &amp; Technology] The secret to longevity...</td>\n",
              "      <td>2</td>\n",
              "      <td>8o1enm</td>\n",
              "      <td>https://www.mcgill.ca/newsroom/channels/news/s...</td>\n",
              "      <td>2</td>\n",
              "      <td></td>\n",
              "      <td>Science &amp; Technology</td>\n",
              "      <td>2018-06-02 23:43:55</td>\n",
              "    </tr>\n",
              "    <tr>\n",
              "      <th>4</th>\n",
              "      <td>[Science &amp; Technology] 20 important discoverie...</td>\n",
              "      <td>30</td>\n",
              "      <td>7hhkem</td>\n",
              "      <td>https://a.msn.com/r/2/BBG3HPi?m=en-in</td>\n",
              "      <td>0</td>\n",
              "      <td></td>\n",
              "      <td>Science &amp; Technology</td>\n",
              "      <td>2017-12-04 22:16:18</td>\n",
              "    </tr>\n",
              "    <tr>\n",
              "      <th>...</th>\n",
              "      <td>...</td>\n",
              "      <td>...</td>\n",
              "      <td>...</td>\n",
              "      <td>...</td>\n",
              "      <td>...</td>\n",
              "      <td>...</td>\n",
              "      <td>...</td>\n",
              "      <td>...</td>\n",
              "    </tr>\n",
              "    <tr>\n",
              "      <th>2806</th>\n",
              "      <td>AMA Announcement: Sanjeev Sabhlok from the Swa...</td>\n",
              "      <td>22</td>\n",
              "      <td>9mxnv9</td>\n",
              "      <td>https://www.reddit.com/r/india/comments/9mxnv9...</td>\n",
              "      <td>0</td>\n",
              "      <td>Hi /r/india, \\n\\nMr. Sanjeev Sabhlok, a former...</td>\n",
              "      <td>AMA</td>\n",
              "      <td>2018-10-10 16:32:18</td>\n",
              "    </tr>\n",
              "    <tr>\n",
              "      <th>2807</th>\n",
              "      <td>[NP] r/India, what's bothering you? I'm here t...</td>\n",
              "      <td>27</td>\n",
              "      <td>4rhdqd</td>\n",
              "      <td>https://www.reddit.com/r/india/comments/4rhdqd...</td>\n",
              "      <td>178</td>\n",
              "      <td>Let's hear it.</td>\n",
              "      <td>AMA</td>\n",
              "      <td>2016-07-06 15:35:35</td>\n",
              "    </tr>\n",
              "    <tr>\n",
              "      <th>2808</th>\n",
              "      <td>Hi r/India, I am Kumaran Mahalingam, a Geologi...</td>\n",
              "      <td>111</td>\n",
              "      <td>5szty8</td>\n",
              "      <td>https://www.reddit.com/r/india/comments/5szty8...</td>\n",
              "      <td>40</td>\n",
              "      <td>I'm a Geologist passionate about Standup-Paddl...</td>\n",
              "      <td>AMA</td>\n",
              "      <td>2017-02-09 20:58:51</td>\n",
              "    </tr>\n",
              "    <tr>\n",
              "      <th>2809</th>\n",
              "      <td>r/IndiaInvestments is having an AMA with Gaura...</td>\n",
              "      <td>17</td>\n",
              "      <td>8hy5eh</td>\n",
              "      <td>https://www.reddit.com/r/india/comments/8hy5eh...</td>\n",
              "      <td>6</td>\n",
              "      <td>https://np.reddit.com/r/IndiaInvestments/comme...</td>\n",
              "      <td>AMA</td>\n",
              "      <td>2018-05-09 00:40:36</td>\n",
              "    </tr>\n",
              "    <tr>\n",
              "      <th>2810</th>\n",
              "      <td>Hi r/India, I'm Nikhil Pahwa. AMA!</td>\n",
              "      <td>79</td>\n",
              "      <td>4vm9nk</td>\n",
              "      <td>https://www.reddit.com/r/india/comments/4vm9nk...</td>\n",
              "      <td>95</td>\n",
              "      <td>Hi, I'm Nikhil Pahwa, /u/atnixxin, and I compl...</td>\n",
              "      <td>AMA</td>\n",
              "      <td>2016-08-01 20:37:18</td>\n",
              "    </tr>\n",
              "  </tbody>\n",
              "</table>\n",
              "<p>2811 rows × 8 columns</p>\n",
              "</div>"
            ],
            "text/plain": [
              "                                                  title  ...           timestamp\n",
              "0     Covid 19 - Parliamentary Standing Committee on...  ... 2020-04-10 14:48:16\n",
              "1     [NP]FIITJEE - An institute that is supposed to...  ... 2017-12-03 16:19:29\n",
              "2     What are the websites that cover science & tec...  ... 2017-02-23 14:27:51\n",
              "3     [Science & Technology] The secret to longevity...  ... 2018-06-02 23:43:55\n",
              "4     [Science & Technology] 20 important discoverie...  ... 2017-12-04 22:16:18\n",
              "...                                                 ...  ...                 ...\n",
              "2806  AMA Announcement: Sanjeev Sabhlok from the Swa...  ... 2018-10-10 16:32:18\n",
              "2807  [NP] r/India, what's bothering you? I'm here t...  ... 2016-07-06 15:35:35\n",
              "2808  Hi r/India, I am Kumaran Mahalingam, a Geologi...  ... 2017-02-09 20:58:51\n",
              "2809  r/IndiaInvestments is having an AMA with Gaura...  ... 2018-05-09 00:40:36\n",
              "2810                 Hi r/India, I'm Nikhil Pahwa. AMA!  ... 2016-08-01 20:37:18\n",
              "\n",
              "[2811 rows x 8 columns]"
            ]
          },
          "metadata": {
            "tags": []
          },
          "execution_count": 22
        }
      ]
    },
    {
      "cell_type": "code",
      "metadata": {
        "id": "SGS7KQpLjann",
        "colab_type": "code",
        "colab": {
          "base_uri": "https://localhost:8080/",
          "height": 568
        },
        "outputId": "1e883c5e-c7b8-4891-8cb7-2caeda8a67b0"
      },
      "source": [
        "plot = df['flair'].value_counts().plot(kind='bar', figsize=(15,7), color=\"coral\", fontsize=14);\n",
        "plot.set_title(\"\\n Analyzing the variety of flairs in top posts over a year \\n\", fontsize=16)\n",
        "plot.set_ylabel(\"Number of posts\", fontsize=14);\n",
        "\n",
        "# Find the values and their sum\n",
        "totals = []\n",
        "for i in plot.patches:\n",
        "    totals.append(i.get_height())\n",
        "total = np.sum(totals)\n",
        "\n",
        "# Set individual bar lables using above list\n",
        "for i in plot.patches:\n",
        "    # get_x pulls left or right; get_height pushes up or down\n",
        "    plot.text(i.get_x()-0.05, i.get_height()+ 2, str(round((i.get_height()/total)*100, 2))+'%', fontsize=14)"
      ],
      "execution_count": 23,
      "outputs": [
        {
          "output_type": "display_data",
          "data": {
            "image/png": "[encoded data removed]",
            "text/plain": [
              "<Figure size 1080x504 with 1 Axes>"
            ]
          },
          "metadata": {
            "tags": [],
            "needs_background": "light"
          }
        }
      ]
    },
    {
      "cell_type": "code",
      "metadata": {
        "id": "z46jUFkMlHza",
        "colab_type": "code",
        "colab": {
          "base_uri": "https://localhost:8080/",
          "height": 288
        },
        "outputId": "193c2551-892f-44dd-b3f8-a5df84542709"
      },
      "source": [
        "df.describe()"
      ],
      "execution_count": 24,
      "outputs": [
        {
          "output_type": "execute_result",
          "data": {
            "text/html": [
              "<div>\n",
              "<style scoped>\n",
              "    .dataframe tbody tr th:only-of-type {\n",
              "        vertical-align: middle;\n",
              "    }\n",
              "\n",
              "    .dataframe tbody tr th {\n",
              "        vertical-align: top;\n",
              "    }\n",
              "\n",
              "    .dataframe thead th {\n",
              "        text-align: right;\n",
              "    }\n",
              "</style>\n",
              "<table border=\"1\" class=\"dataframe\">\n",
              "  <thead>\n",
              "    <tr style=\"text-align: right;\">\n",
              "      <th></th>\n",
              "      <th>score</th>\n",
              "      <th>comms_num</th>\n",
              "    </tr>\n",
              "  </thead>\n",
              "  <tbody>\n",
              "    <tr>\n",
              "      <th>count</th>\n",
              "      <td>2811.000000</td>\n",
              "      <td>2811.000000</td>\n",
              "    </tr>\n",
              "    <tr>\n",
              "      <th>mean</th>\n",
              "      <td>148.152970</td>\n",
              "      <td>67.705799</td>\n",
              "    </tr>\n",
              "    <tr>\n",
              "      <th>std</th>\n",
              "      <td>558.629089</td>\n",
              "      <td>459.185975</td>\n",
              "    </tr>\n",
              "    <tr>\n",
              "      <th>min</th>\n",
              "      <td>0.000000</td>\n",
              "      <td>0.000000</td>\n",
              "    </tr>\n",
              "    <tr>\n",
              "      <th>25%</th>\n",
              "      <td>9.000000</td>\n",
              "      <td>4.000000</td>\n",
              "    </tr>\n",
              "    <tr>\n",
              "      <th>50%</th>\n",
              "      <td>29.000000</td>\n",
              "      <td>13.000000</td>\n",
              "    </tr>\n",
              "    <tr>\n",
              "      <th>75%</th>\n",
              "      <td>108.000000</td>\n",
              "      <td>46.000000</td>\n",
              "    </tr>\n",
              "    <tr>\n",
              "      <th>max</th>\n",
              "      <td>18435.000000</td>\n",
              "      <td>10960.000000</td>\n",
              "    </tr>\n",
              "  </tbody>\n",
              "</table>\n",
              "</div>"
            ],
            "text/plain": [
              "              score     comms_num\n",
              "count   2811.000000   2811.000000\n",
              "mean     148.152970     67.705799\n",
              "std      558.629089    459.185975\n",
              "min        0.000000      0.000000\n",
              "25%        9.000000      4.000000\n",
              "50%       29.000000     13.000000\n",
              "75%      108.000000     46.000000\n",
              "max    18435.000000  10960.000000"
            ]
          },
          "metadata": {
            "tags": []
          },
          "execution_count": 24
        }
      ]
    },
    {
      "cell_type": "code",
      "metadata": {
        "id": "f7MFBRKrlJMT",
        "colab_type": "code",
        "colab": {}
      },
      "source": [
        "df.to_csv('dataset.csv',index=False)"
      ],
      "execution_count": 25,
      "outputs": []
    },
    {
      "cell_type": "code",
      "metadata": {
        "id": "EeRLh4UxuubI",
        "colab_type": "code",
        "colab": {}
      },
      "source": [
        ""
      ],
      "execution_count": 25,
      "outputs": []
    }
  ]
}